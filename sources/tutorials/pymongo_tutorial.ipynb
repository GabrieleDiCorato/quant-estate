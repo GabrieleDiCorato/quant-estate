{
 "cells": [
  {
   "cell_type": "markdown",
   "id": "3bb26b53",
   "metadata": {
    "id": "3bb26b53"
   },
   "source": [
    "# connect to mongo and get data"
   ]
  },
  {
   "cell_type": "code",
   "execution_count": 1,
   "id": "fd4f7b24",
   "metadata": {
    "executionInfo": {
     "elapsed": 283,
     "status": "ok",
     "timestamp": 1648567787311,
     "user": {
      "displayName": "Lorenzo Malandri",
      "userId": "15117306044125889213"
     },
     "user_tz": -120
    },
    "id": "fd4f7b24"
   },
   "outputs": [],
   "source": [
    "import pymongo\n",
    "from pymongo import MongoClient\n",
    "import datetime\n",
    "from bson.objectid import ObjectId\n",
    "from bson.json_util import dumps\n",
    "from hashlib import md5\n",
    "import pprint"
   ]
  },
  {
   "cell_type": "code",
   "execution_count": 63,
   "id": "4fcd901d",
   "metadata": {
    "executionInfo": {
     "elapsed": 296,
     "status": "ok",
     "timestamp": 1648567873977,
     "user": {
      "displayName": "Lorenzo Malandri",
      "userId": "15117306044125889213"
     },
     "user_tz": -120
    },
    "id": "4fcd901d"
   },
   "outputs": [],
   "source": [
    "# create a MongoClient to the running mongod instance with the default host and port\n",
    "client = MongoClient()\n",
    "\n",
    "# we can also specify the host and port\n",
    "client = MongoClient('localhost', 27017)\n",
    "client = MongoClient('mongodb://localhost:27017/') #using the mongoDB uri format"
   ]
  },
  {
   "cell_type": "code",
   "execution_count": 64,
   "id": "0c7c7732",
   "metadata": {
    "executionInfo": {
     "elapsed": 321,
     "status": "ok",
     "timestamp": 1648568033231,
     "user": {
      "displayName": "Lorenzo Malandri",
      "userId": "15117306044125889213"
     },
     "user_tz": -120
    },
    "id": "0c7c7732"
   },
   "outputs": [],
   "source": [
    "# access the database (or create it if does not exist)\n",
    "db = client['test-database']"
   ]
  },
  {
   "cell_type": "code",
   "execution_count": 65,
   "id": "ac43c539",
   "metadata": {
    "executionInfo": {
     "elapsed": 361,
     "status": "ok",
     "timestamp": 1648568039864,
     "user": {
      "displayName": "Lorenzo Malandri",
      "userId": "15117306044125889213"
     },
     "user_tz": -120
    },
    "id": "ac43c539"
   },
   "outputs": [
    {
     "data": {
      "text/plain": [
       "Collection(Database(MongoClient(host=['localhost:27017'], document_class=dict, tz_aware=False, connect=True), 'test-database'), 'posts')"
      ]
     },
     "execution_count": 65,
     "metadata": {},
     "output_type": "execute_result"
    }
   ],
   "source": [
    "# access a collection (or create it if does not exist)\n",
    "collection = db['posts']\n",
    "collection"
   ]
  },
  {
   "cell_type": "code",
   "execution_count": 66,
   "id": "k_ajoO3gQ2aq",
   "metadata": {
    "colab": {
     "base_uri": "https://localhost:8080/"
    },
    "executionInfo": {
     "elapsed": 317,
     "status": "ok",
     "timestamp": 1648568062544,
     "user": {
      "displayName": "Lorenzo Malandri",
      "userId": "15117306044125889213"
     },
     "user_tz": -120
    },
    "id": "k_ajoO3gQ2aq",
    "outputId": "e001d455-e12c-4067-9d4b-4071347c5bd7"
   },
   "outputs": [
    {
     "data": {
      "text/plain": [
       "['posts']"
      ]
     },
     "execution_count": 66,
     "metadata": {},
     "output_type": "execute_result"
    }
   ],
   "source": [
    "db.list_collection_names() # print all the collections in the db"
   ]
  },
  {
   "cell_type": "markdown",
   "id": "e866d789",
   "metadata": {
    "id": "e866d789"
   },
   "source": [
    "# insert and query data"
   ]
  },
  {
   "cell_type": "markdown",
   "id": "e50f476a",
   "metadata": {
    "id": "e50f476a"
   },
   "source": [
    "## single document"
   ]
  },
  {
   "cell_type": "code",
   "execution_count": 67,
   "id": "8f3a83a6",
   "metadata": {
    "id": "8f3a83a6"
   },
   "outputs": [],
   "source": [
    "# drop previous collection\n",
    "db.posts.drop()\n",
    "posts = db.posts"
   ]
  },
  {
   "cell_type": "code",
   "execution_count": 68,
   "id": "8be46733",
   "metadata": {
    "colab": {
     "base_uri": "https://localhost:8080/"
    },
    "executionInfo": {
     "elapsed": 391,
     "status": "ok",
     "timestamp": 1648568271094,
     "user": {
      "displayName": "Lorenzo Malandri",
      "userId": "15117306044125889213"
     },
     "user_tz": -120
    },
    "id": "8be46733",
    "outputId": "631c1ce8-9fec-4f9c-bce9-57d7afd02e0b"
   },
   "outputs": [
    {
     "data": {
      "text/plain": [
       "ObjectId('682845b63b7073c4346369eb')"
      ]
     },
     "execution_count": 68,
     "metadata": {},
     "output_type": "execute_result"
    }
   ],
   "source": [
    "# insert a manfactured social media post, using the insert_one() command\n",
    "post = {\"author\": \"Mike\",\n",
    "        \"text\": \"My first blog post!\",\n",
    "        \"tags\": [\"mongodb\", \"python\", \"pymongo\"],\n",
    "        \"date\": datetime.datetime.now(datetime.UTC)}\n",
    "\n",
    "post_id = posts.insert_one(post).inserted_id\n",
    "post_id"
   ]
  },
  {
   "cell_type": "code",
   "execution_count": 69,
   "id": "a093a675",
   "metadata": {
    "colab": {
     "base_uri": "https://localhost:8080/"
    },
    "executionInfo": {
     "elapsed": 300,
     "status": "ok",
     "timestamp": 1648568283189,
     "user": {
      "displayName": "Lorenzo Malandri",
      "userId": "15117306044125889213"
     },
     "user_tz": -120
    },
    "id": "a093a675",
    "outputId": "7b5559ec-6c26-437f-8e09-500ba9527979"
   },
   "outputs": [
    {
     "data": {
      "text/plain": [
       "['posts']"
      ]
     },
     "execution_count": 69,
     "metadata": {},
     "output_type": "execute_result"
    }
   ],
   "source": [
    "db.list_collection_names() # print all the collections in the db"
   ]
  },
  {
   "cell_type": "code",
   "execution_count": 70,
   "id": "ddab5b73",
   "metadata": {
    "colab": {
     "base_uri": "https://localhost:8080/"
    },
    "executionInfo": {
     "elapsed": 458,
     "status": "ok",
     "timestamp": 1648568340494,
     "user": {
      "displayName": "Lorenzo Malandri",
      "userId": "15117306044125889213"
     },
     "user_tz": -120
    },
    "id": "ddab5b73",
    "outputId": "79b71d79-2948-4eb2-e72a-ba534547a29c"
   },
   "outputs": [
    {
     "name": "stdout",
     "output_type": "stream",
     "text": [
      "{'_id': ObjectId('682845b63b7073c4346369eb'),\n",
      " 'author': 'Mike',\n",
      " 'date': datetime.datetime(2025, 5, 17, 8, 15, 50, 74000),\n",
      " 'tags': ['mongodb', 'python', 'pymongo'],\n",
      " 'text': 'My first blog post!'}\n"
     ]
    }
   ],
   "source": [
    "# query a document, using the find_one() command\n",
    "pprint.pprint(posts.find_one({\"author\": \"Mike\"}))"
   ]
  },
  {
   "cell_type": "code",
   "execution_count": 71,
   "id": "b72aa5e7",
   "metadata": {
    "executionInfo": {
     "elapsed": 6,
     "status": "ok",
     "timestamp": 1648568357739,
     "user": {
      "displayName": "Lorenzo Malandri",
      "userId": "15117306044125889213"
     },
     "user_tz": -120
    },
    "id": "b72aa5e7"
   },
   "outputs": [],
   "source": [
    "posts.find_one({\"author\": \"Eliot\"})"
   ]
  },
  {
   "cell_type": "code",
   "execution_count": 72,
   "id": "badce9d6",
   "metadata": {
    "colab": {
     "base_uri": "https://localhost:8080/"
    },
    "executionInfo": {
     "elapsed": 400,
     "status": "ok",
     "timestamp": 1648568372625,
     "user": {
      "displayName": "Lorenzo Malandri",
      "userId": "15117306044125889213"
     },
     "user_tz": -120
    },
    "id": "badce9d6",
    "outputId": "477a6528-c4b3-46b1-c1e1-c56520d118c1"
   },
   "outputs": [
    {
     "name": "stdout",
     "output_type": "stream",
     "text": [
      "{'_id': ObjectId('682845b63b7073c4346369eb'),\n",
      " 'author': 'Mike',\n",
      " 'date': datetime.datetime(2025, 5, 17, 8, 15, 50, 74000),\n",
      " 'tags': ['mongodb', 'python', 'pymongo'],\n",
      " 'text': 'My first blog post!'}\n"
     ]
    }
   ],
   "source": [
    "# querying by ObjectId\n",
    "pprint.pprint(posts.find_one({\"_id\": post_id}))"
   ]
  },
  {
   "cell_type": "code",
   "execution_count": 73,
   "id": "88d2d2c8",
   "metadata": {
    "executionInfo": {
     "elapsed": 297,
     "status": "ok",
     "timestamp": 1648568399400,
     "user": {
      "displayName": "Lorenzo Malandri",
      "userId": "15117306044125889213"
     },
     "user_tz": -120
    },
    "id": "88d2d2c8"
   },
   "outputs": [],
   "source": [
    "# the objectId is an object, not a string\n",
    "post_id_as_str = str(post_id)\n",
    "posts.find_one({\"_id\": post_id_as_str})"
   ]
  },
  {
   "cell_type": "code",
   "execution_count": 74,
   "id": "0b3d6cd8",
   "metadata": {
    "colab": {
     "base_uri": "https://localhost:8080/"
    },
    "executionInfo": {
     "elapsed": 334,
     "status": "ok",
     "timestamp": 1648568441241,
     "user": {
      "displayName": "Lorenzo Malandri",
      "userId": "15117306044125889213"
     },
     "user_tz": -120
    },
    "id": "0b3d6cd8",
    "outputId": "6d23bcff-00bc-4be9-92f0-aeef60a5df42"
   },
   "outputs": [
    {
     "name": "stdout",
     "output_type": "stream",
     "text": [
      "{'_id': ObjectId('682845b63b7073c4346369eb'),\n",
      " 'author': 'Mike',\n",
      " 'date': datetime.datetime(2025, 5, 17, 8, 15, 50, 74000),\n",
      " 'tags': ['mongodb', 'python', 'pymongo'],\n",
      " 'text': 'My first blog post!'}\n"
     ]
    }
   ],
   "source": [
    "# to convert a string to ObjectId\n",
    "def get_ObjId(id):\n",
    "    return ObjectId(str(id))\n",
    "\n",
    "def get(str_id):\n",
    "    # Convert from string to ObjectId:\n",
    "    id = get_ObjId(str_id)\n",
    "    document = db.posts.find_one({\"_id\": id})\n",
    "    return document\n",
    "\n",
    "pprint.pprint(get(post_id))"
   ]
  },
  {
   "cell_type": "markdown",
   "id": "220db736",
   "metadata": {
    "id": "220db736"
   },
   "source": [
    "## bulk insert"
   ]
  },
  {
   "cell_type": "code",
   "execution_count": 81,
   "id": "a66d12ab",
   "metadata": {
    "colab": {
     "base_uri": "https://localhost:8080/"
    },
    "executionInfo": {
     "elapsed": 298,
     "status": "ok",
     "timestamp": 1648568528720,
     "user": {
      "displayName": "Lorenzo Malandri",
      "userId": "15117306044125889213"
     },
     "user_tz": -120
    },
    "id": "a66d12ab",
    "outputId": "ea7e431e-13be-4cfa-f874-f0d7662cf7e1"
   },
   "outputs": [
    {
     "data": {
      "text/plain": [
       "[ObjectId('682846083b7073c4346369f0'), ObjectId('682846083b7073c4346369f1')]"
      ]
     },
     "execution_count": 81,
     "metadata": {},
     "output_type": "execute_result"
    }
   ],
   "source": [
    "# insert many manfactured social media posts, using the insert_one() command\n",
    "new_posts = [{\"author\": \"Mike\",\n",
    "              \"text\": \"Another post!\",\n",
    "              \"tags\": [\"bulk\", \"insert\"],\n",
    "              \"date\": datetime.datetime(2009, 11, 12, 11, 14)},\n",
    "             {\"author\": \"Eliot\",\n",
    "              \"title\": \"MongoDB is fun\",\n",
    "              \"text\": \"and pretty easy too!\",\n",
    "              \"date\": datetime.datetime(2009, 11, 10, 10, 45)}]\n",
    "result = posts.insert_many(new_posts)\n",
    "result.inserted_ids"
   ]
  },
  {
   "cell_type": "code",
   "execution_count": 82,
   "id": "8ed7cd7c",
   "metadata": {
    "colab": {
     "base_uri": "https://localhost:8080/"
    },
    "executionInfo": {
     "elapsed": 306,
     "status": "ok",
     "timestamp": 1648568535770,
     "user": {
      "displayName": "Lorenzo Malandri",
      "userId": "15117306044125889213"
     },
     "user_tz": -120
    },
    "id": "8ed7cd7c",
    "outputId": "cbc06ca2-d33e-4681-ad7c-776d1d051c32"
   },
   "outputs": [
    {
     "name": "stdout",
     "output_type": "stream",
     "text": [
      "{'_id': ObjectId('682845b63b7073c4346369eb'),\n",
      " 'author': 'Mike',\n",
      " 'date': datetime.datetime(2025, 5, 17, 8, 15, 50, 74000),\n",
      " 'tags': ['mongodb', 'python', 'pymongo'],\n",
      " 'text': 'My first blog post!'}\n",
      "{'_id': ObjectId('682845bd3b7073c4346369ec'),\n",
      " 'author': 'Mike',\n",
      " 'date': datetime.datetime(2009, 11, 12, 11, 14),\n",
      " 'tags': ['bulk', 'insert'],\n",
      " 'text': 'Another post!'}\n",
      "{'_id': ObjectId('682845bd3b7073c4346369ed'),\n",
      " 'author': 'Eliot',\n",
      " 'date': datetime.datetime(2009, 11, 10, 10, 45),\n",
      " 'text': 'and pretty easy too!',\n",
      " 'title': 'MongoDB is fun'}\n",
      "{'_id': ObjectId('682846083b7073c4346369f0'),\n",
      " 'author': 'Mike',\n",
      " 'date': datetime.datetime(2009, 11, 12, 11, 14),\n",
      " 'tags': ['bulk', 'insert'],\n",
      " 'text': 'Another post!'}\n",
      "{'_id': ObjectId('682846083b7073c4346369f1'),\n",
      " 'author': 'Eliot',\n",
      " 'date': datetime.datetime(2009, 11, 10, 10, 45),\n",
      " 'text': 'and pretty easy too!',\n",
      " 'title': 'MongoDB is fun'}\n"
     ]
    }
   ],
   "source": [
    "for post in posts.find():\n",
    "    pprint.pprint(post)"
   ]
  },
  {
   "cell_type": "code",
   "execution_count": 85,
   "id": "7f129ced-ae04-457e-a672-4e4f6975baba",
   "metadata": {
    "colab": {
     "base_uri": "https://localhost:8080/"
    },
    "executionInfo": {
     "elapsed": 15,
     "status": "ok",
     "timestamp": 1647975341988,
     "user": {
      "displayName": "Lorenzo Malandri",
      "photoUrl": "https://lh3.googleusercontent.com/a/default-user=s64",
      "userId": "15117306044125889213"
     },
     "user_tz": -60
    },
    "id": "8d96b23b",
    "outputId": "e8d84ca4-23f9-4f6e-f099-13804d2eb861"
   },
   "outputs": [
    {
     "name": "stdout",
     "output_type": "stream",
     "text": [
      "{'_id': ObjectId('682845b63b7073c4346369eb'),\n",
      " 'author': 'Mike',\n",
      " 'date': datetime.datetime(2025, 5, 17, 8, 15, 50, 74000),\n",
      " 'tags': ['mongodb', 'python', 'pymongo'],\n",
      " 'text': 'My first blog post!'}\n",
      "{'_id': ObjectId('682845bd3b7073c4346369ec'),\n",
      " 'author': 'Mike',\n",
      " 'date': datetime.datetime(2009, 11, 12, 11, 14),\n",
      " 'tags': ['bulk', 'insert'],\n",
      " 'text': 'Another post!'}\n",
      "{'_id': ObjectId('682845bd3b7073c4346369ed'),\n",
      " 'author': 'Eliot',\n",
      " 'date': datetime.datetime(2009, 11, 10, 10, 45),\n",
      " 'text': 'and pretty easy too!',\n",
      " 'title': 'MongoDB is fun'}\n"
     ]
    }
   ],
   "source": [
    "# remove all duplicated documents (using hash)\n",
    "record_hashes = set()\n",
    "\n",
    "for record in db.posts.find():\n",
    "    # remove the id from the record, so that the hash will be evaluated on the document without id\n",
    "    record_id = record.pop('_id')\n",
    "    record_hash = md5(dumps(record).encode(\"utf-8\")).hexdigest()\n",
    "\n",
    "    if record_hash in record_hashes:\n",
    "        db.posts.delete_one({'_id': record_id})\n",
    "    else:\n",
    "        record_hashes.add(record_hash)\n",
    "\n",
    "for post in db.posts.find():\n",
    "    pprint.pprint(post)"
   ]
  },
  {
   "cell_type": "code",
   "execution_count": 86,
   "id": "c20c6202",
   "metadata": {
    "colab": {
     "base_uri": "https://localhost:8080/"
    },
    "executionInfo": {
     "elapsed": 14,
     "status": "ok",
     "timestamp": 1647975341988,
     "user": {
      "displayName": "Lorenzo Malandri",
      "photoUrl": "https://lh3.googleusercontent.com/a/default-user=s64",
      "userId": "15117306044125889213"
     },
     "user_tz": -60
    },
    "id": "c20c6202",
    "outputId": "82ad4900-bb74-4732-f29b-6ebb25959d58"
   },
   "outputs": [
    {
     "name": "stdout",
     "output_type": "stream",
     "text": [
      "{'ID': ObjectId('682845bd3b7073c4346369ed'),\n",
      " '_id': {'author': 'Eliot', 'text': 'and pretty easy too!'},\n",
      " 'date': datetime.datetime(2009, 11, 10, 10, 45),\n",
      " 'tags': None}\n",
      "{'ID': ObjectId('682845b63b7073c4346369eb'),\n",
      " '_id': {'author': 'Mike', 'text': 'My first blog post!'},\n",
      " 'date': datetime.datetime(2025, 5, 17, 8, 15, 50, 74000),\n",
      " 'tags': ['mongodb', 'python', 'pymongo']}\n",
      "{'ID': ObjectId('682845bd3b7073c4346369ec'),\n",
      " '_id': {'author': 'Mike', 'text': 'Another post!'},\n",
      " 'date': datetime.datetime(2009, 11, 12, 11, 14),\n",
      " 'tags': ['bulk', 'insert']}\n"
     ]
    }
   ],
   "source": [
    "# remove duplicates based on a key\n",
    "pipeline = [\n",
    "    {\"$group\":{ \n",
    "     \"_id\": {'author':\"$author\", 'text':\"$text\"}, \n",
    "      \"date\": {\"$first\": '$date'},\n",
    "      \"tags\": {\"$first\": '$tags'},\n",
    "      \"ID\": {\"$first\": '$_id'},\n",
    "     }},\n",
    "     {\"$out\" : \"deduplicated\"}\n",
    "]\n",
    "\n",
    "db.posts.aggregate(pipeline)\n",
    "\n",
    "for post in db.deduplicated.find():\n",
    "    pprint.pprint(post)"
   ]
  },
  {
   "cell_type": "code",
   "execution_count": 87,
   "id": "4bbaf044",
   "metadata": {
    "colab": {
     "base_uri": "https://localhost:8080/"
    },
    "executionInfo": {
     "elapsed": 13,
     "status": "ok",
     "timestamp": 1647975341988,
     "user": {
      "displayName": "Lorenzo Malandri",
      "photoUrl": "https://lh3.googleusercontent.com/a/default-user=s64",
      "userId": "15117306044125889213"
     },
     "user_tz": -60
    },
    "id": "4bbaf044",
    "outputId": "6cd07487-7415-494f-8d99-1ef8048a85aa"
   },
   "outputs": [
    {
     "name": "stdout",
     "output_type": "stream",
     "text": [
      "{'ID': ObjectId('682845b63b7073c4346369eb'),\n",
      " '_id': {'author': 'Mike', 'text': 'My first blog post!'},\n",
      " 'date': datetime.datetime(2025, 5, 17, 8, 15, 50, 74000),\n",
      " 'tags': ['mongodb', 'python', 'pymongo']}\n",
      "{'ID': ObjectId('682845bd3b7073c4346369ec'),\n",
      " '_id': {'author': 'Mike', 'text': 'Another post!'},\n",
      " 'date': datetime.datetime(2009, 11, 12, 11, 14),\n",
      " 'tags': ['bulk', 'insert']}\n"
     ]
    }
   ],
   "source": [
    "for post in db.deduplicated.find({\"_id.author\": \"Mike\"}):\n",
    "    pprint.pprint(post)"
   ]
  },
  {
   "cell_type": "markdown",
   "id": "cd4f44bb",
   "metadata": {
    "id": "cd4f44bb"
   },
   "source": [
    "## counting"
   ]
  },
  {
   "cell_type": "code",
   "execution_count": 88,
   "id": "52490c6e",
   "metadata": {
    "colab": {
     "base_uri": "https://localhost:8080/"
    },
    "executionInfo": {
     "elapsed": 11,
     "status": "ok",
     "timestamp": 1647975341988,
     "user": {
      "displayName": "Lorenzo Malandri",
      "photoUrl": "https://lh3.googleusercontent.com/a/default-user=s64",
      "userId": "15117306044125889213"
     },
     "user_tz": -60
    },
    "id": "52490c6e",
    "outputId": "4a60b644-4787-4b7a-d173-9feda40c04d3"
   },
   "outputs": [
    {
     "data": {
      "text/plain": [
       "3"
      ]
     },
     "execution_count": 88,
     "metadata": {},
     "output_type": "execute_result"
    }
   ],
   "source": [
    "db.posts.count_documents({})"
   ]
  },
  {
   "cell_type": "code",
   "execution_count": 89,
   "id": "a41a5534",
   "metadata": {
    "colab": {
     "base_uri": "https://localhost:8080/"
    },
    "executionInfo": {
     "elapsed": 11,
     "status": "ok",
     "timestamp": 1647975341989,
     "user": {
      "displayName": "Lorenzo Malandri",
      "photoUrl": "https://lh3.googleusercontent.com/a/default-user=s64",
      "userId": "15117306044125889213"
     },
     "user_tz": -60
    },
    "id": "a41a5534",
    "outputId": "dd22a84a-cd5a-4cb4-99c1-2978e1950da6"
   },
   "outputs": [
    {
     "data": {
      "text/plain": [
       "2"
      ]
     },
     "execution_count": 89,
     "metadata": {},
     "output_type": "execute_result"
    }
   ],
   "source": [
    "posts.count_documents({\"author\": \"Mike\"})"
   ]
  },
  {
   "cell_type": "markdown",
   "id": "38258a0a",
   "metadata": {
    "id": "38258a0a"
   },
   "source": [
    "## range queries"
   ]
  },
  {
   "cell_type": "code",
   "execution_count": 90,
   "id": "6c16282f",
   "metadata": {
    "colab": {
     "base_uri": "https://localhost:8080/"
    },
    "executionInfo": {
     "elapsed": 10,
     "status": "ok",
     "timestamp": 1647975341989,
     "user": {
      "displayName": "Lorenzo Malandri",
      "photoUrl": "https://lh3.googleusercontent.com/a/default-user=s64",
      "userId": "15117306044125889213"
     },
     "user_tz": -60
    },
    "id": "6c16282f",
    "outputId": "87b39ee9-23ed-4e6f-ae6d-f1c7ad401067"
   },
   "outputs": [
    {
     "name": "stdout",
     "output_type": "stream",
     "text": [
      "{'_id': ObjectId('682845bd3b7073c4346369ed'),\n",
      " 'author': 'Eliot',\n",
      " 'date': datetime.datetime(2009, 11, 10, 10, 45),\n",
      " 'text': 'and pretty easy too!',\n",
      " 'title': 'MongoDB is fun'}\n",
      "{'_id': ObjectId('682845bd3b7073c4346369ec'),\n",
      " 'author': 'Mike',\n",
      " 'date': datetime.datetime(2009, 11, 12, 11, 14),\n",
      " 'tags': ['bulk', 'insert'],\n",
      " 'text': 'Another post!'}\n"
     ]
    }
   ],
   "source": [
    "d = datetime.datetime(2009, 11, 12, 12)\n",
    "for post in posts.find({\"date\": {\"$lt\": d}}).sort(\"author\"):\n",
    "    pprint.pprint(post)"
   ]
  }
 ],
 "metadata": {
  "colab": {
   "collapsed_sections": [],
   "name": "11_pyMonGo first steps.ipynb",
   "provenance": []
  },
  "kernelspec": {
   "display_name": "Python 3 (ipykernel)",
   "language": "python",
   "name": "python3"
  },
  "language_info": {
   "codemirror_mode": {
    "name": "ipython",
    "version": 3
   },
   "file_extension": ".py",
   "mimetype": "text/x-python",
   "name": "python",
   "nbconvert_exporter": "python",
   "pygments_lexer": "ipython3",
   "version": "3.12.6"
  }
 },
 "nbformat": 4,
 "nbformat_minor": 5
}

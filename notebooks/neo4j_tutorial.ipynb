{
 "cells": [
  {
   "cell_type": "markdown",
   "id": "0",
   "metadata": {},
   "source": [
    "# Creating a Neo4j Database"
   ]
  },
  {
   "cell_type": "code",
   "execution_count": null,
   "id": "1",
   "metadata": {},
   "outputs": [],
   "source": [
    "import pandas as pd\n",
    "import neo4j\n",
    "import re"
   ]
  },
  {
   "cell_type": "markdown",
   "id": "2",
   "metadata": {},
   "source": [
    "Before executing, **start your local database** using Neo4j Desktop.\n",
    "\n",
    "**TODOs:**\n",
    "1. can I start the DB from a notebook? use cypher-shell?"
   ]
  },
  {
   "cell_type": "code",
   "execution_count": null,
   "id": "3",
   "metadata": {},
   "outputs": [],
   "source": [
    "# Default port: 7687. Click on the neo4j desktop instance for datails\n",
    "URI = \"neo4j://localhost:7687\"\n",
    "auth = neo4j.basic_auth(\"neo4j\", \"123456789\")\n",
    "\n",
    "def get_driver(uri=URI, auth=auth):\n",
    "    ''' Starting a Neo4j Driver. \n",
    "    The Driver interface hides the implementation, which mostly depends on the provided URI protocol.\n",
    "    '''\n",
    "    return neo4j.GraphDatabase.driver(URI, auth=auth)\n",
    "\n",
    "print(\"Going to test the connection!\")\n",
    "with get_driver() as driver:\n",
    "    server_i = driver.get_server_info()\n",
    "    print(f\"Testing {server_i.address}, using a {type(driver)} driver, {server_i.agent}\")\n",
    "    driver.verify_connectivity()\n",
    "    print(\"Connected!\")"
   ]
  },
  {
   "cell_type": "markdown",
   "id": "4",
   "metadata": {},
   "source": [
    "## Creating Nodes and Relationships"
   ]
  },
  {
   "cell_type": "markdown",
   "id": "5",
   "metadata": {},
   "source": [
    "## Neo4j Graph "
   ]
  },
  {
   "cell_type": "markdown",
   "id": "6",
   "metadata": {},
   "source": [
    "## Analysis"
   ]
  }
 ],
 "metadata": {},
 "nbformat": 4,
 "nbformat_minor": 5
}

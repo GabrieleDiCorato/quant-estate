{
 "cells": [
  {
   "cell_type": "markdown",
   "metadata": {},
   "source": [
    "# Datamodel Test\n",
    "\n",
    "This notebook provides an updated and quick view on the datamodel to non-technical users."
   ]
  },
  {
   "cell_type": "code",
   "execution_count": null,
   "metadata": {},
   "outputs": [],
   "source": [
    "import sys\n",
    "from pathlib import Path\n",
    "\n",
    "# Find the project root\n",
    "project_root = Path().cwd().parent\n",
    "print(f\"Project root: {project_root}\")\n",
    "\n",
    "# Add project root to Python path (not just sources)\n",
    "sys.path.insert(0, str(project_root))\n",
    "print(f\"Added to Python path: {project_root}\")\n",
    "\n",
    "# Now import from sources\n",
    "import json\n",
    "from sources.datamodel import ListingId\n",
    "from pprint import pprint"
   ]
  },
  {
   "cell_type": "markdown",
   "metadata": {},
   "source": [
    "Since the datamodel was created using `pydantic`, we can create a datamodel schema very easily:"
   ]
  },
  {
   "cell_type": "code",
   "execution_count": null,
   "metadata": {},
   "outputs": [],
   "source": [
    "main_model_schema = ListingId.model_json_schema()\n",
    "print(json.dumps(main_model_schema, indent=2))"
   ]
  }
 ],
 "metadata": {},
 "nbformat": 4,
 "nbformat_minor": 4
}

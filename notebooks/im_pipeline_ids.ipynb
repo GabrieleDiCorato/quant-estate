{
 "cells": [
  {
   "cell_type": "markdown",
   "id": "48863359",
   "metadata": {},
   "source": [
    "# Pipeline 1: IDs\n",
    "\n",
    "## Prerequisites"
   ]
  },
  {
   "cell_type": "code",
   "execution_count": null,
   "id": "fbe2b636-1676-4ea3-82d6-cca0d0f84743",
   "metadata": {},
   "outputs": [],
   "source": [
    "import sys\n",
    "from pathlib import Path\n",
    "import os\n",
    "\n",
    "# Find the project root\n",
    "project_root = Path().cwd().parent\n",
    "print(f\"Project root: {project_root}\")\n",
    "\n",
    "# Add project root to Python path (not just sources)\n",
    "sys.path.insert(0, str(project_root))\n",
    "print(f\"Added to Python path: {project_root}\")\n",
    "\n",
    "# Set environment variables\n",
    "\n",
    "os.environ[\"QE_ENV\"] = \"dev\"\n",
    "os.environ[\"QE_CONF_FOLDER\"] = \"sources/resources\"\n",
    "print(f\"Added environment variables: QE_ENV={os.environ['QE_ENV']}, QE_CONF_FOLDER={os.environ['QE_CONF_FOLDER']}\")"
   ]
  },
  {
   "cell_type": "code",
   "execution_count": null,
   "id": "db07e70c",
   "metadata": {},
   "outputs": [],
   "source": [
    "import logging\n",
    "\n",
    "from pydantic import SecretStr\n",
    "\n",
    "from sources.datamodel.listing_id import ListingId\n",
    "from sources.logging import logging_utils\n",
    "from sources.storage.abstract_storage import Storage\n",
    "from sources.storage.file_storage import FileStorage\n",
    "from sources.scrapers.immobiliare.scraper_ids import ImmobiliareIdScraper\n",
    "from sources.config.model.storage_settings import MongoStorageSettings"
   ]
  },
  {
   "cell_type": "markdown",
   "id": "1c89d576",
   "metadata": {},
   "source": [
    "## Configuration"
   ]
  },
  {
   "cell_type": "code",
   "execution_count": null,
   "id": "b1e572bd-027e-47eb-8e02-764f4eb4755c",
   "metadata": {},
   "outputs": [],
   "source": [
    "URL = \"https://www.immobiliare.it/vendita-case/milano/?criterio=rilevanza\"\n",
    "USR = \"\"\n",
    "PSW = \"\"\n",
    "HOST = \"\"\n",
    "MONGO = f\"mongodb+srv://{USR}:{PSW}@{HOST}/?retryWrites=true&w=majority&appName=QuantEstate01\""
   ]
  },
  {
   "cell_type": "code",
   "execution_count": null,
   "id": "ca6a9124",
   "metadata": {},
   "outputs": [],
   "source": [
    "from sources.storage.mongo_storage import MongoDBStorage\n",
    "\n",
    "logging_utils.setup_logging(config_path='sources/resources/logging.yaml')\n",
    "logger = logging.getLogger(__name__)\n",
    "\n",
    "mongoSettings = MongoStorageSettings(\n",
    "    connection_string=SecretStr(MONGO),\n",
    ")\n",
    "storage: Storage = MongoDBStorage(ListingId, mongoSettings)\n",
    "scraper = ImmobiliareIdScraper(storage, scrape_url=URL)"
   ]
  },
  {
   "cell_type": "markdown",
   "id": "e0b1c174",
   "metadata": {},
   "source": [
    "## Start the pipeline!"
   ]
  },
  {
   "cell_type": "code",
   "execution_count": null,
   "id": "6a17e6ec",
   "metadata": {},
   "outputs": [],
   "source": [
    "scraper.scrape()"
   ]
  }
 ],
 "metadata": {},
 "nbformat": 4,
 "nbformat_minor": 5
}

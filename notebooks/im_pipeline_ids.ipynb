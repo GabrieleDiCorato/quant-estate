{
 "cells": [
  {
   "cell_type": "markdown",
   "id": "48863359",
   "metadata": {},
   "source": [
    "# Pipeline 1: IDs WITH PARALLEL SCRAPERS\n",
    "\n",
    "This is the pipeline 1 pipeline prototype. We extract basic info regarding real estate listings and publish them on mongoDB.\n",
    "\n",
    "## Prerequisites"
   ]
  },
  {
   "cell_type": "code",
   "execution_count": null,
   "id": "fbe2b636-1676-4ea3-82d6-cca0d0f84743",
   "metadata": {},
   "outputs": [],
   "source": [
    "import sys\n",
    "from pathlib import Path\n",
    "import os\n",
    "import random\n",
    "\n",
    "# Find the project root\n",
    "project_root = Path().cwd().parent\n",
    "print(f\"Project root: {project_root}\")\n",
    "\n",
    "# Add project root to Python path (not just sources)\n",
    "sys.path.insert(0, str(project_root))\n",
    "print(f\"Added to Python path: {project_root}\")\n",
    "\n",
    "# Set environment variables\n",
    "\n",
    "os.environ[\"QE_ENV\"] = \"dev\"\n",
    "os.environ[\"QE_CONF_FOLDER\"] = \"sources/resources\"\n",
    "print(f\"Added environment variables: QE_ENV={os.environ['QE_ENV']}, QE_CONF_FOLDER={os.environ['QE_CONF_FOLDER']}\")"
   ]
  },
  {
   "cell_type": "code",
   "execution_count": null,
   "id": "db07e70c",
   "metadata": {},
   "outputs": [],
   "source": [
    "from sources.datamodel.listing_id import ListingId\n",
    "from sources.logging import logging_utils\n",
    "from sources.storage.abstract_storage import Storage\n",
    "from sources.scrapers.immobiliare.scraper_ids import ImmobiliareIdScraper\n",
    "from sources.config.config_manager import ConfigManager"
   ]
  },
  {
   "cell_type": "markdown",
   "id": "1c89d576",
   "metadata": {},
   "source": [
    "## Configuration"
   ]
  },
  {
   "cell_type": "markdown",
   "id": "82c3e7a2",
   "metadata": {},
   "source": [
    "Remember that ordering and filters are handled in the configuration file, you don't have to add them multiple times!"
   ]
  },
  {
   "cell_type": "code",
   "execution_count": null,
   "id": "b1e572bd-027e-47eb-8e02-764f4eb4755c",
   "metadata": {},
   "outputs": [],
   "source": [
    "URL = \"https://www.immobiliare.it/vendita-case/milano/\"\n",
    "\n",
    "URLS = [\n",
    "    \"https://www.immobiliare.it/vendita-case/milano/?idMZona[]=10071&idMZona[]=10316&idMZona[]=10295\",\n",
    "    \"https://www.immobiliare.it/vendita-case/milano/?idMZona[]=10317&idMZona[]=10294&idMZona[]=10319\",\n",
    "    \"https://www.immobiliare.it/vendita-case/milano/?idMZona[]=10320&idMZona[]=10293&idMZona[]=10068\",\n",
    "    \"https://www.immobiliare.it/vendita-case/milano/?idMZona[]=10067&idMZona[]=10066&idMZona[]=10321\",\n",
    "    \"https://www.immobiliare.it/vendita-case/milano/?idMZona[]=10292&idMZona[]=10065\",\n",
    "    \"https://www.immobiliare.it/vendita-case/milano/?idMZona[]=10064&idMZona[]=10055\",\n",
    "    \"https://www.immobiliare.it/vendita-case/milano/?idMZona[]=10072&idMZona[]=10296\",\n",
    "    \"https://www.immobiliare.it/vendita-case/milano/?idMZona[]=10318&idMZona[]=10070\",\n",
    "    \"https://www.immobiliare.it/vendita-case/milano/?idMZona[]=10069&idMZona[]=10059&idMZona[]=10057\",\n",
    "    \"https://www.immobiliare.it/vendita-case/milano/?idMZona[]=10056&idMZona[]=10047&idMZona[]=10054\",\n",
    "    \"https://www.immobiliare.it/vendita-case/milano/?idMZona[]=10053&idMZona[]=10061&idMZona[]=10060\",\n",
    "    \"https://www.immobiliare.it/vendita-case/milano/?idMZona[]=10046&idMZona[]=10050&idMZona[]=10049\",\n",
    "]"
   ]
  },
  {
   "cell_type": "code",
   "execution_count": null,
   "id": "ca6a9124",
   "metadata": {},
   "outputs": [],
   "source": [
    "logging_utils.setup_logging(config_path='sources/resources/logging.yaml')\n",
    "logger = logging_utils.get_logger(__name__)"
   ]
  },
  {
   "cell_type": "markdown",
   "id": "65f2b6e8",
   "metadata": {},
   "source": [
    "You can easily load the configuration through the ConfigManager class:"
   ]
  },
  {
   "cell_type": "code",
   "execution_count": null,
   "id": "aab88eb2",
   "metadata": {},
   "outputs": [],
   "source": [
    "config_manager = ConfigManager()"
   ]
  },
  {
   "cell_type": "code",
   "execution_count": null,
   "id": "26b4edb5",
   "metadata": {},
   "outputs": [],
   "source": [
    "# If you change the file without restarting the notebook, you need to invalidate the caches\n",
    "#config_manager.invalidate_caches()\n",
    "storage_settings = config_manager.get_storage_config()\n",
    "storage: Storage = Storage.create_storage(data_type=ListingId, config=storage_settings)"
   ]
  },
  {
   "cell_type": "code",
   "execution_count": null,
   "id": "bddec2f1",
   "metadata": {},
   "outputs": [],
   "source": [
    "# Set a limit for the number of listings to scrape\n",
    "os.environ[\"SCRAPER__IMM_ID__LISTING_LIMIT\"] = \"300\"\n",
    "\n",
    "config_manager.invalidate_caches()\n",
    "scraper_settings = config_manager.get_scraper_id_config()"
   ]
  },
  {
   "cell_type": "markdown",
   "id": "e0b1c174",
   "metadata": {},
   "source": [
    "## Start the pipeline!"
   ]
  },
  {
   "cell_type": "code",
   "execution_count": null,
   "id": "579f93fd",
   "metadata": {},
   "outputs": [],
   "source": [
    "scrapers = [\n",
    "    ImmobiliareIdScraper(storage, settings=scraper_settings, scrape_url=url)\n",
    "    for url in URLS\n",
    "]\n",
    "# Shuffle the scrapers list in-place\n",
    "random.shuffle(scrapers)"
   ]
  },
  {
   "cell_type": "code",
   "execution_count": null,
   "id": "6a17e6ec",
   "metadata": {},
   "outputs": [],
   "source": [
    "import concurrent.futures as cf\n",
    "import time\n",
    "\n",
    "# Stagger the start times to be respectful to the server\n",
    "max_workers = 3  # Conservative limit for immobiliare.it\n",
    "stagger_delay = 20  # Seconds between starting each scraper\n",
    "\n",
    "def run_scraper_with_delay(scraper, delay=1):\n",
    "    \"\"\"Run scraper with staggered start to avoid overwhelming the server\"\"\"\n",
    "    time.sleep(random.uniform(0, delay))\n",
    "    return scraper.scrape()\n",
    "\n",
    "with cf.ThreadPoolExecutor(max_workers=max_workers) as executor:\n",
    "    futures = []\n",
    "    for i, scraper in enumerate(scrapers):\n",
    "        future = executor.submit(run_scraper_with_delay, scraper, stagger_delay)\n",
    "        futures.append(future)\n",
    "\n",
    "    for future in cf.as_completed(futures):\n",
    "        try:\n",
    "            result = future.result()\n",
    "            logger.info(\"Scraper completed\")\n",
    "        except Exception as e:\n",
    "            logger.error(f\"Scraper failed: {e}\")"
   ]
  }
 ],
 "metadata": {},
 "nbformat": 4,
 "nbformat_minor": 5
}

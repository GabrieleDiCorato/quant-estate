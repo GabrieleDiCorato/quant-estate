{
 "cells": [
  {
   "cell_type": "markdown",
   "id": "48863359",
   "metadata": {},
   "source": [
    "# Pipeline 1: IDs WITH PARALLEL SCRAPERS\n",
    "\n",
    "## Prerequisites"
   ]
  },
  {
   "cell_type": "code",
   "execution_count": null,
   "id": "fbe2b636-1676-4ea3-82d6-cca0d0f84743",
   "metadata": {},
   "outputs": [],
   "source": [
    "import sys\n",
    "from pathlib import Path\n",
    "import os\n",
    "import random\n",
    "\n",
    "# Find the project root\n",
    "project_root = Path().cwd().parent\n",
    "print(f\"Project root: {project_root}\")\n",
    "\n",
    "# Add project root to Python path (not just sources)\n",
    "sys.path.insert(0, str(project_root))\n",
    "print(f\"Added to Python path: {project_root}\")\n",
    "\n",
    "# Set environment variables\n",
    "\n",
    "os.environ[\"QE_ENV\"] = \"dev\"\n",
    "os.environ[\"QE_CONF_FOLDER\"] = \"sources/resources\"\n",
    "print(f\"Added environment variables: QE_ENV={os.environ['QE_ENV']}, QE_CONF_FOLDER={os.environ['QE_CONF_FOLDER']}\")"
   ]
  },
  {
   "cell_type": "code",
   "execution_count": null,
   "id": "db07e70c",
   "metadata": {},
   "outputs": [],
   "source": [
    "from sources.datamodel.listing_id import ListingId\n",
    "from sources.logging import logging_utils\n",
    "from sources.storage.abstract_storage import Storage\n",
    "from sources.scrapers.immobiliare.scraper_ids import ImmobiliareIdScraper\n",
    "from sources.config.config_manager import ConfigManager"
   ]
  },
  {
   "cell_type": "markdown",
   "id": "1c89d576",
   "metadata": {},
   "source": [
    "## Configuration"
   ]
  },
  {
   "cell_type": "code",
   "execution_count": null,
   "id": "b1e572bd-027e-47eb-8e02-764f4eb4755c",
   "metadata": {},
   "outputs": [],
   "source": [
    "ORDER = \"&criterio=data&ordine=desc\"\n",
    "NO_AUCTION = \"&noAste=1\"\n",
    "\n",
    "URL = \"https://www.immobiliare.it/vendita-case/milano/\"\n",
    "\n",
    "URLS = [\n",
    "    \"https://www.immobiliare.it/vendita-case/milano/?idMZona[]=10071&idMZona[]=10316&idMZona[]=10295\",\n",
    "    \"https://www.immobiliare.it/vendita-case/milano/?idMZona[]=10317&idMZona[]=10294&idMZona[]=10319\",\n",
    "    \"https://www.immobiliare.it/vendita-case/milano/?idMZona[]=10320&idMZona[]=10293&idMZona[]=10068\",\n",
    "    \"https://www.immobiliare.it/vendita-case/milano/?idMZona[]=10067&idMZona[]=10066&idMZona[]=10321\",\n",
    "    \"https://www.immobiliare.it/vendita-case/milano/?idMZona[]=10292&idMZona[]=10065\",\n",
    "    \"https://www.immobiliare.it/vendita-case/milano/?idMZona[]=10064&idMZona[]=10055\",\n",
    "    \"https://www.immobiliare.it/vendita-case/milano/?idMZona[]=10072&idMZona[]=10296\",\n",
    "    \"https://www.immobiliare.it/vendita-case/milano/?idMZona[]=10318&idMZona[]=10070\",\n",
    "    \"https://www.immobiliare.it/vendita-case/milano/?idMZona[]=10069&idMZona[]=10059&idMZona[]=10057\",\n",
    "    \"https://www.immobiliare.it/vendita-case/milano/?idMZona[]=10056&idMZona[]=10047&idMZona[]=10054\",\n",
    "    \"https://www.immobiliare.it/vendita-case/milano/?idMZona[]=10053&idMZona[]=10061&idMZona[]=10060\",\n",
    "    \"https://www.immobiliare.it/vendita-case/milano/?idMZona[]=10046&idMZona[]=10050&idMZona[]=10049\",\n",
    "]\n",
    "\n",
    "# URLS = [f\"{url}{ORDER}{NO_AUCTION}\" for url in URLS]\n",
    "# check that auctions are skipped by the scraper\n",
    "URLS = [f\"{url}{ORDER}\" for url in URLS]"
   ]
  },
  {
   "cell_type": "code",
   "execution_count": null,
   "id": "ca6a9124",
   "metadata": {},
   "outputs": [],
   "source": [
    "logging_utils.setup_logging(config_path='sources/resources/logging.yaml')\n",
    "logger = logging_utils.get_logger(__name__)\n",
    "\n",
    "settings = ConfigManager().get_storage_config()\n",
    "\n",
    "storage: Storage = Storage.create_storage(data_type=ListingId, config=settings)\n",
    "\n",
    "# scrapers = [ImmobiliareIdScraper(storage, scrape_url=(url + \"&pag=5\"), headless=False) for url in URLS]\n",
    "scrapers = [\n",
    "    ImmobiliareIdScraper(storage, scrape_url=(url), headless=False)\n",
    "    for url in URLS\n",
    "]\n",
    "# Shuffle the scrapers list in-place\n",
    "random.shuffle(scrapers) "
   ]
  },
  {
   "cell_type": "markdown",
   "id": "e0b1c174",
   "metadata": {},
   "source": [
    "## Start the pipeline!"
   ]
  },
  {
   "cell_type": "code",
   "execution_count": null,
   "id": "6a17e6ec",
   "metadata": {},
   "outputs": [],
   "source": [
    "import concurrent.futures as cf\n",
    "import time\n",
    "\n",
    "# Stagger the start times to be respectful to the server\n",
    "max_workers = 3  # Conservative limit for immobiliare.it\n",
    "stagger_delay = 10  # Seconds between starting each scraper\n",
    "listing_limit = 600\n",
    "\n",
    "def run_scraper_with_delay(scraper, delay=1):\n",
    "    \"\"\"Run scraper with staggered start to avoid overwhelming the server\"\"\"\n",
    "    time.sleep(random.uniform(0, delay))\n",
    "    return scraper.scrape(limit=listing_limit)\n",
    "\n",
    "\n",
    "with cf.ThreadPoolExecutor(max_workers=max_workers) as executor:\n",
    "    futures = []\n",
    "    for i, scraper in enumerate(scrapers):\n",
    "        future = executor.submit(run_scraper_with_delay, scraper, stagger_delay)\n",
    "        futures.append(future)\n",
    "\n",
    "    for future in cf.as_completed(futures):\n",
    "        try:\n",
    "            result = future.result()\n",
    "            logger.info(\"Scraper completed\")\n",
    "        except Exception as e:\n",
    "            logger.error(f\"Scraper failed: {e}\")"
   ]
  }
 ],
 "metadata": {},
 "nbformat": 4,
 "nbformat_minor": 5
}

{
 "cells": [
  {
   "cell_type": "markdown",
   "metadata": {},
   "source": [
    "# Immobiliare Connector Test\n",
    "\n",
    "This notebook demonstrates the usage of the immobiliare connector for scraping real estate data."
   ]
  },
  {
   "cell_type": "code",
   "execution_count": 1,
   "metadata": {},
   "outputs": [
    {
     "name": "stdout",
     "output_type": "stream",
     "text": [
      "Project root: C:\\Users\\gabri\\workspace\\aida_projects\\quant-estate\n",
      "Added to Python path: C:\\Users\\gabri\\workspace\\aida_projects\\quant-estate\n"
     ]
    }
   ],
   "source": [
    "import sys\n",
    "import logging\n",
    "from datetime import datetime\n",
    "from pathlib import Path\n",
    "\n",
    "# Find the project root\n",
    "project_root = Path().cwd().parent\n",
    "print(f\"Project root: {project_root}\")\n",
    "\n",
    "# Add project root to Python path (not just sources)\n",
    "sys.path.insert(0, str(project_root))\n",
    "print(f\"Added to Python path: {project_root}\")\n",
    "\n",
    "# Now import from sources\n",
    "from sources.config import ConfigManager\n",
    "from sources.connectors.immobiliare import ImmobiliareConnector\n",
    "from sources.connectors.exceptions import ScrapingError, StorageError\n",
    "\n",
    "from sources.logging.logging import setup_logging"
   ]
  },
  {
   "cell_type": "code",
   "execution_count": 2,
   "metadata": {},
   "outputs": [],
   "source": [
    "# Create a debug configuration\n",
    "debug_config = {\n",
    "    'level': 'INFO',  # Set root level to DEBUG\n",
    "    'handlers': {\n",
    "        'console': {\n",
    "            'enabled': True,\n",
    "            'level': 'INFO'  # Set console to DEBUG\n",
    "        },\n",
    "        'file': {\n",
    "            'enabled': False,\n",
    "            'level': 'INFO',  # Set file to DEBUG\n",
    "            'filename': f'immobiliare_scraper_{datetime.now().strftime(\"%Y%m%d_%H%M%S\")}.log',\n",
    "            'date_format': '%Y%m%d_%H%M%S',\n",
    "            'directory': 'logs'\n",
    "        }\n",
    "    }\n",
    "}\n",
    "\n",
    "# Set up logging with debug configuration\n",
    "setup_logging(debug_config)\n",
    "\n",
    "# Get the root logger and set its level to DEBUG\n",
    "root_logger = logging.getLogger()\n",
    "root_logger.setLevel(logging.INFO)\n",
    "\n",
    "# Set specific loggers to DEBUG\n",
    "logging.getLogger('sources.connectors.immobiliare.scraper').setLevel(logging.INFO)\n",
    "logging.getLogger('sources.connectors.immobiliare.storage').setLevel(logging.INFO)\n",
    "\n",
    "# Get the root logger\n",
    "logger = logging.getLogger(__name__)"
   ]
  },
  {
   "cell_type": "code",
   "execution_count": 3,
   "metadata": {},
   "outputs": [
    {
     "name": "stdout",
     "output_type": "stream",
     "text": [
      "2025-06-04 16:58:55 - INFO - __main__ - Initializing configuration...\n",
      "2025-06-04 16:58:55 - INFO - sources.config.config_manager - Initialized ConfigManager with config directory: C:\\Users\\gabri\\workspace\\aida_projects\\quant-estate\\sources\\config\n",
      "2025-06-04 16:58:55 - INFO - __main__ - Creating immobiliare connector...\n",
      "2025-06-04 16:58:55 - INFO - sources.connectors.immobiliare.connector - Initializing ImmobiliareConnector\n",
      "2025-06-04 16:58:55 - INFO - sources.config.config_manager - Successfully loaded configuration: logging\n",
      "2025-06-04 16:58:55 - INFO - sources.config.config_manager - Successfully loaded configuration: immobiliare.default\n",
      "2025-06-04 16:58:55 - INFO - sources.connectors.immobiliare.scraper.ImmobiliareScraper - Initialized ImmobiliareScraper with base URL: https://www.immobiliare.it\n",
      "2025-06-04 16:58:55 - INFO - sources.connectors.immobiliare.storage.FileStorage - Initialized FileStorage at data\\immobiliare (JSON saving: enabled)\n",
      "2025-06-04 16:58:55 - INFO - sources.connectors.immobiliare.connector - Created FileStorage at data\\immobiliare\n",
      "2025-06-04 16:58:55 - INFO - sources.connectors.immobiliare.connector - ImmobiliareConnector initialized successfully with FileStorage storage\n",
      "2025-06-04 16:58:55 - INFO - __main__ - Starting scraping from: https://www.immobiliare.it/vendita-case/milano/\n",
      "2025-06-04 16:58:55 - INFO - sources.connectors.immobiliare.connector - Starting scraping from https://www.immobiliare.it/vendita-case/milano/ (max pages: 2)\n",
      "2025-06-04 16:59:28 - INFO - sources.connectors.immobiliare.scraper.ImmobiliareScraper - Successfully extracted 25 real estate listings\n",
      "2025-06-04 16:59:28 - INFO - sources.connectors.immobiliare.storage.FileStorage - Storing 25 real estate listings\n",
      "2025-06-04 16:59:28 - INFO - sources.connectors.immobiliare.storage.FileStorage - Successfully appended 25 records to JSON file\n",
      "2025-06-04 16:59:28 - INFO - sources.connectors.immobiliare.storage.FileStorage - Successfully appended 25 records to CSV file\n",
      "2025-06-04 16:59:40 - INFO - sources.connectors.immobiliare.scraper.ImmobiliareScraper - Successfully extracted 25 real estate listings\n",
      "2025-06-04 16:59:40 - INFO - sources.connectors.immobiliare.storage.FileStorage - Storing 25 real estate listings\n",
      "2025-06-04 16:59:40 - INFO - sources.connectors.immobiliare.storage.FileStorage - Successfully appended 25 records to JSON file\n",
      "2025-06-04 16:59:40 - INFO - sources.connectors.immobiliare.storage.FileStorage - Successfully appended 25 records to CSV file\n",
      "2025-06-04 16:59:40 - INFO - sources.connectors.immobiliare.connector - Scraping completed successfully\n",
      "2025-06-04 16:59:40 - INFO - __main__ - Successfully scraped data from https://www.immobiliare.it/vendita-case/milano/\n",
      "2025-06-04 16:59:40 - INFO - __main__ - Scraping completed!\n"
     ]
    }
   ],
   "source": [
    "try:\n",
    "    # Initialize configuration\n",
    "    logger.info(\"Initializing configuration...\")\n",
    "    config_manager = ConfigManager()\n",
    "    \n",
    "    # Create connector\n",
    "    logger.info(\"Creating immobiliare connector...\")\n",
    "    connector = ImmobiliareConnector(config_manager=config_manager)\n",
    "    \n",
    "    # Define target URLs\n",
    "    urls = [\n",
    "        \"https://www.immobiliare.it/vendita-case/milano/\",\n",
    "        #\"https://www.immobiliare.it/vendita-case/milano/?criterio=prezzo&ordine=desc\"\n",
    "        #\"https://www.immobiliare.it/vendita-case/roma/\",\n",
    "        #\"https://www.immobiliare.it/vendita-case/torino/\"\n",
    "    ]\n",
    "    \n",
    "    # Scrape each URL\n",
    "    for url in urls:\n",
    "        try:\n",
    "            logger.info(f\"Starting scraping from: {url}\")\n",
    "            connector.scrape_and_store(url, max_pages=2)  # Limit to 2 pages per city for testing\n",
    "            logger.info(f\"Successfully scraped data from {url}\")\n",
    "        except ScrapingError as e:\n",
    "            logger.error(f\"Scraping error for {url}: {e}\")\n",
    "        except StorageError as e:\n",
    "            logger.error(f\"Storage error for {url}: {e}\")\n",
    "        except Exception as e:\n",
    "            logger.error(f\"Unexpected error for {url}: {e}\")\n",
    "    \n",
    "    logger.info(\"Scraping completed!\")\n",
    "    \n",
    "except Exception as e:\n",
    "    logger.error(f\"Fatal error: {e}\")"
   ]
  },
  {
   "cell_type": "code",
   "execution_count": null,
   "metadata": {},
   "outputs": [],
   "source": []
  },
  {
   "cell_type": "code",
   "execution_count": null,
   "metadata": {},
   "outputs": [],
   "source": []
  }
 ],
 "metadata": {
  "kernelspec": {
   "display_name": "Python 3 (ipykernel)",
   "language": "python",
   "name": "python3"
  },
  "language_info": {
   "codemirror_mode": {
    "name": "ipython",
    "version": 3
   },
   "file_extension": ".py",
   "mimetype": "text/x-python",
   "name": "python",
   "nbconvert_exporter": "python",
   "pygments_lexer": "ipython3",
   "version": "3.12.6"
  }
 },
 "nbformat": 4,
 "nbformat_minor": 4
}

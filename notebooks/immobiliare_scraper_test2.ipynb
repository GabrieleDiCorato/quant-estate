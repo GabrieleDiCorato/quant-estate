{
 "cells": [
  {
   "cell_type": "markdown",
   "metadata": {},
   "source": [
    "# Immobiliare Connector Test\n",
    "\n",
    "This notebook demonstrates the usage of the immobiliare connector for scraping real estate data."
   ]
  },
  {
   "cell_type": "code",
   "execution_count": 1,
   "metadata": {},
   "outputs": [],
   "source": [
    "import os\n",
    "import sys\n",
    "from pathlib import Path\n",
    "import pandas as pd\n",
    "import matplotlib.pyplot as plt\n",
    "\n",
    "# Add project root to Python path\n",
    "project_root = Path.cwd().parent.parent\n",
    "if str(project_root) not in sys.path:\n",
    "    sys.path.insert(0, str(project_root))\n",
    "\n",
    "# Import the connector\n",
    "from sources.connectors.immobiliare import ImmobiliareScraper"
   ]
  },
  {
   "cell_type": "markdown",
   "metadata": {},
   "source": [
    "## Basic Usage\n",
    "\n",
    "Let's start with a basic example of scraping a single page of real estate listings."
   ]
  },
  {
   "cell_type": "code",
   "execution_count": 2,
   "metadata": {},
   "outputs": [
    {
     "name": "stdout",
     "output_type": "stream",
     "text": [
      "Storage directory: C:\\Users\\gabri\\workspace\\aida_projects\\quant-estate\\data\\immobiliare_data_2025-05-31\n",
      "Initialized storage at: C:\\Users\\gabri\\workspace\\aida_projects\\quant-estate\\data\\immobiliare_data_2025-05-31\n",
      "Initialized JSON file: C:\\Users\\gabri\\workspace\\aida_projects\\quant-estate\\data\\immobiliare_data_2025-05-31\\immobiliare.json\n",
      "Initialized CSV file: C:\\Users\\gabri\\workspace\\aida_projects\\quant-estate\\data\\immobiliare_data_2025-05-31\\immobiliare.csv\n",
      "\n",
      "Processing page 1\n",
      "Requesting URL: https://www.immobiliare.it/vendita-case/milano/?criterio=rilevanza\n",
      "Appended 25 records to JSON file: C:\\Users\\gabri\\workspace\\aida_projects\\quant-estate\\data\\immobiliare_data_2025-05-31\\immobiliare.json\n",
      "Appended 25 records to CSV file: C:\\Users\\gabri\\workspace\\aida_projects\\quant-estate\\data\\immobiliare_data_2025-05-31\\immobiliare.csv\n",
      "Scraped 25 properties\n",
      "\n",
      "First property details:\n",
      "ID: 120855202\n",
      "Type: Appartamento\n",
      "Price: € 750.000\n",
      "Location: Milano, Milano\n"
     ]
    }
   ],
   "source": [
    "# Create a scraper instance for a single page\n",
    "scraper = ImmobiliareScraper(\n",
    "    url=\"https://www.immobiliare.it/vendita-case/milano/?criterio=rilevanza\",\n",
    "    get_data_of_following_pages=False\n",
    ")\n",
    "\n",
    "# Display basic information\n",
    "print(f\"Scraped {len(scraper.real_estates)} properties\")\n",
    "print(f\"\\nFirst property details:\")\n",
    "if scraper.real_estates:\n",
    "    first_property = scraper.real_estates[0]\n",
    "    print(f\"ID: {first_property.id}\")\n",
    "    print(f\"Type: {first_property.type}\")\n",
    "    print(f\"Price: {first_property.formatted_price}\")\n",
    "    print(f\"Location: {first_property.city}, {first_property.province}\")"
   ]
  },
  {
   "cell_type": "markdown",
   "metadata": {},
   "source": [
    "## Data Analysis\n",
    "\n",
    "Let's analyze the scraped data using pandas."
   ]
  },
  {
   "cell_type": "code",
   "execution_count": 4,
   "metadata": {},
   "outputs": [
    {
     "name": "stdout",
     "output_type": "stream",
     "text": [
      "Basic Statistics:\n",
      "Total properties: 25\n",
      "\n",
      "Property types:\n",
      "type\n",
      "Appartamento    20\n",
      "Progetto         5\n",
      "Name: count, dtype: int64\n",
      "\n",
      "Price statistics (€):\n",
      "count    2.500000e+01\n",
      "mean     4.398000e+05\n",
      "std      2.293851e+05\n",
      "min      2.280000e+05\n",
      "25%      2.850000e+05\n",
      "50%      3.495000e+05\n",
      "75%      5.100000e+05\n",
      "max      1.130000e+06\n",
      "Name: price, dtype: float64\n",
      "\n",
      "Properties by city:\n",
      "city\n",
      "Milano    25\n",
      "Name: count, dtype: int64\n"
     ]
    }
   ],
   "source": [
    "# Convert to DataFrame and display basic statistics\n",
    "df = scraper.data_frame\n",
    "\n",
    "# Display basic statistics\n",
    "print(\"Basic Statistics:\")\n",
    "print(f\"Total properties: {len(df)}\")\n",
    "print(f\"\\nProperty types:\")\n",
    "print(df['type'].value_counts())\n",
    "\n",
    "# Price analysis\n",
    "print(f\"\\nPrice statistics (€):\")\n",
    "print(df['price'].describe())\n",
    "\n",
    "# Location analysis\n",
    "print(f\"\\nProperties by city:\")\n",
    "print(df['city'].value_counts())"
   ]
  },
  {
   "cell_type": "markdown",
   "metadata": {},
   "source": [
    "## Multi-page Scraping\n",
    "\n",
    "Let's test scraping multiple pages of results."
   ]
  },
  {
   "cell_type": "code",
   "execution_count": 5,
   "metadata": {},
   "outputs": [
    {
     "name": "stdout",
     "output_type": "stream",
     "text": [
      "Storage directory: C:\\Users\\gabri\\workspace\\aida_projects\\quant-estate\\data\\immobiliare_data_2025-05-31\n",
      "Initialized storage at: C:\\Users\\gabri\\workspace\\aida_projects\\quant-estate\\data\\immobiliare_data_2025-05-31\n",
      "\n",
      "Processing page 1\n",
      "Requesting URL: https://www.immobiliare.it/vendita-case/milano/?criterio=rilevanza\n",
      "Appended 25 records to JSON file: C:\\Users\\gabri\\workspace\\aida_projects\\quant-estate\\data\\immobiliare_data_2025-05-31\\immobiliare.json\n",
      "Appended 25 records to CSV file: C:\\Users\\gabri\\workspace\\aida_projects\\quant-estate\\data\\immobiliare_data_2025-05-31\\immobiliare.csv\n",
      "\n",
      "Processing page 2\n",
      "Requesting URL: https://www.immobiliare.it/vendita-case/milano/?criterio=rilevanza&pag=2\n",
      "Appended 25 records to JSON file: C:\\Users\\gabri\\workspace\\aida_projects\\quant-estate\\data\\immobiliare_data_2025-05-31\\immobiliare.json\n",
      "Appended 25 records to CSV file: C:\\Users\\gabri\\workspace\\aida_projects\\quant-estate\\data\\immobiliare_data_2025-05-31\\immobiliare.csv\n",
      "\n",
      "Processing page 3\n",
      "Requesting URL: https://www.immobiliare.it/vendita-case/milano/?criterio=rilevanza&pag=3\n",
      "Appended 25 records to JSON file: C:\\Users\\gabri\\workspace\\aida_projects\\quant-estate\\data\\immobiliare_data_2025-05-31\\immobiliare.json\n",
      "Appended 25 records to CSV file: C:\\Users\\gabri\\workspace\\aida_projects\\quant-estate\\data\\immobiliare_data_2025-05-31\\immobiliare.csv\n",
      "Reached maximum page limit of 3\n",
      "Scraped 75 properties from multiple pages\n"
     ]
    }
   ],
   "source": [
    "# Create a scraper instance for multiple pages\n",
    "multi_page_scraper = ImmobiliareScraper(\n",
    "    url=\"https://www.immobiliare.it/vendita-case/milano/?criterio=rilevanza\",\n",
    "    get_data_of_following_pages=True,\n",
    "    max_pages=3\n",
    ")\n",
    "\n",
    "# Display results\n",
    "print(f\"Scraped {len(multi_page_scraper.real_estates)} properties from multiple pages\")"
   ]
  },
  {
   "cell_type": "markdown",
   "metadata": {},
   "source": [
    "## Error Handling\n",
    "\n",
    "Let's test the error handling capabilities of the connector."
   ]
  },
  {
   "cell_type": "code",
   "execution_count": 7,
   "metadata": {},
   "outputs": [
    {
     "name": "stdout",
     "output_type": "stream",
     "text": [
      "Storage directory: C:\\Users\\gabri\\workspace\\aida_projects\\quant-estate\\data\\immobiliare_data_2025-05-30\n",
      "Initialized storage at: C:\\Users\\gabri\\workspace\\aida_projects\\quant-estate\\data\\immobiliare_data_2025-05-30\n",
      "Getting real estate data of https://invalid-url.com\n",
      "Caught expected error: Given URL must include 'https://www.immobiliare.it'\n"
     ]
    }
   ],
   "source": [
    "from sources.connectors.immobiliare import InvalidURLError\n",
    "\n",
    "try:\n",
    "    # Try with an invalid URL\n",
    "    invalid_scraper = ImmobiliareScraper(\n",
    "        url=\"https://invalid-url.com\",\n",
    "        get_data_of_following_pages=False\n",
    "    )\n",
    "except InvalidURLError as e:\n",
    "    print(f\"Caught expected error: {e}\")\n",
    "except Exception as e:\n",
    "    print(f\"Unexpected error: {e}\")"
   ]
  },
  {
   "cell_type": "markdown",
   "metadata": {},
   "source": [
    "## Data Export/Import Test\n",
    "\n",
    "Let's test saving and loading data in different formats."
   ]
  },
  {
   "cell_type": "code",
   "execution_count": 8,
   "metadata": {},
   "outputs": [
    {
     "name": "stdout",
     "output_type": "stream",
     "text": [
      "Saved 25 records to JSON file: C:\\Users\\gabri\\workspace\\aida_projects\\quant-estate\\data\\immobiliare_data_2025-05-30\\test_export.json\n",
      "Saved 25 records to CSV file: C:\\Users\\gabri\\workspace\\aida_projects\\quant-estate\\data\\immobiliare_data_2025-05-30\\test_export.csv\n",
      "Storage directory: C:\\Users\\gabri\\workspace\\aida_projects\\quant-estate\\data\\immobiliare_data_2025-05-30\n",
      "Initialized storage at: C:\\Users\\gabri\\workspace\\aida_projects\\quant-estate\\data\\immobiliare_data_2025-05-30\n"
     ]
    },
    {
     "ename": "KeyError",
     "evalue": "'realEstate'",
     "output_type": "error",
     "traceback": [
      "\u001b[31m---------------------------------------------------------------\u001b[39m",
      "\u001b[31mKeyError\u001b[39m                      Traceback (most recent call last)",
      "\u001b[36mCell\u001b[39m\u001b[36m \u001b[39m\u001b[32mIn[8]\u001b[39m\u001b[32m, line 9\u001b[39m\n\u001b[32m      7\u001b[39m \u001b[38;5;66;03m# Load data\u001b[39;00m\n\u001b[32m      8\u001b[39m storage = DataStorage()\n\u001b[32m----> \u001b[39m\u001b[32m9\u001b[39m loaded_json_data = \u001b[43mstorage\u001b[49m\u001b[43m.\u001b[49m\u001b[43mload_json\u001b[49m\u001b[43m(\u001b[49m\u001b[33;43m\"\u001b[39;49m\u001b[33;43mtest_export.json\u001b[39;49m\u001b[33;43m\"\u001b[39;49m\u001b[43m)\u001b[49m\n\u001b[32m     10\u001b[39m loaded_csv_data = storage.load_csv(\u001b[33m\"\u001b[39m\u001b[33mtest_export.csv\u001b[39m\u001b[33m\"\u001b[39m)\n\u001b[32m     12\u001b[39m \u001b[38;5;28mprint\u001b[39m(\u001b[33mf\u001b[39m\u001b[33m\"\u001b[39m\u001b[33mLoaded \u001b[39m\u001b[38;5;132;01m{\u001b[39;00m\u001b[38;5;28mlen\u001b[39m(loaded_json_data)\u001b[38;5;132;01m}\u001b[39;00m\u001b[33m properties from JSON\u001b[39m\u001b[33m\"\u001b[39m)\n",
      "\u001b[36mFile \u001b[39m\u001b[32m~\\workspace\\aida_projects\\quant-estate\\sources\\connectors\\immobiliare\\storage.py:97\u001b[39m, in \u001b[36mDataStorage.load_json\u001b[39m\u001b[34m(self, filename)\u001b[39m\n\u001b[32m     95\u001b[39m     \u001b[38;5;28;01mwith\u001b[39;00m \u001b[38;5;28mopen\u001b[39m(filepath, \u001b[33m\"\u001b[39m\u001b[33mr\u001b[39m\u001b[33m\"\u001b[39m, encoding=\u001b[33m\"\u001b[39m\u001b[33mutf-8\u001b[39m\u001b[33m\"\u001b[39m) \u001b[38;5;28;01mas\u001b[39;00m f:\n\u001b[32m     96\u001b[39m         data = json.load(f)\n\u001b[32m---> \u001b[39m\u001b[32m97\u001b[39m         \u001b[38;5;28;01mreturn\u001b[39;00m [\u001b[43mRealEstate\u001b[49m\u001b[43m.\u001b[49m\u001b[43mfrom_dict\u001b[49m\u001b[43m(\u001b[49m\u001b[43mitem\u001b[49m\u001b[43m)\u001b[49m \u001b[38;5;28;01mfor\u001b[39;00m item \u001b[38;5;129;01min\u001b[39;00m data]\n\u001b[32m     98\u001b[39m \u001b[38;5;28;01mexcept\u001b[39;00m (\u001b[38;5;167;01mIOError\u001b[39;00m, json.JSONDecodeError) \u001b[38;5;28;01mas\u001b[39;00m e:\n\u001b[32m     99\u001b[39m     \u001b[38;5;28;01mraise\u001b[39;00m StorageError(\u001b[33mf\u001b[39m\u001b[33m\"\u001b[39m\u001b[33mFailed to load JSON data: \u001b[39m\u001b[38;5;132;01m{\u001b[39;00me\u001b[38;5;132;01m}\u001b[39;00m\u001b[33m\"\u001b[39m)\n",
      "\u001b[36mFile \u001b[39m\u001b[32m~\\workspace\\aida_projects\\quant-estate\\sources\\connectors\\immobiliare\\models.py:47\u001b[39m, in \u001b[36mRealEstate.from_dict\u001b[39m\u001b[34m(cls, data)\u001b[39m\n\u001b[32m     43\u001b[39m \u001b[38;5;129m@classmethod\u001b[39m\n\u001b[32m     44\u001b[39m \u001b[38;5;28;01mdef\u001b[39;00m\u001b[38;5;250m \u001b[39m\u001b[34mfrom_dict\u001b[39m(\u001b[38;5;28mcls\u001b[39m, data: \u001b[38;5;28mdict\u001b[39m) -> \u001b[33m'\u001b[39m\u001b[33mRealEstate\u001b[39m\u001b[33m'\u001b[39m:\n\u001b[32m     45\u001b[39m \u001b[38;5;250m    \u001b[39m\u001b[33;03m\"\"\"Create a RealEstate instance from a dictionary.\"\"\"\u001b[39;00m\n\u001b[32m     46\u001b[39m     \u001b[38;5;28;01mreturn\u001b[39;00m \u001b[38;5;28mcls\u001b[39m(\n\u001b[32m---> \u001b[39m\u001b[32m47\u001b[39m         \u001b[38;5;28mid\u001b[39m=\u001b[38;5;28mstr\u001b[39m(\u001b[43mdata\u001b[49m\u001b[43m[\u001b[49m\u001b[33;43m\"\u001b[39;49m\u001b[33;43mrealEstate\u001b[39;49m\u001b[33;43m\"\u001b[39;49m\u001b[43m]\u001b[49m[\u001b[33m\"\u001b[39m\u001b[33mid\u001b[39m\u001b[33m\"\u001b[39m]),\n\u001b[32m     48\u001b[39m         url=data[\u001b[33m\"\u001b[39m\u001b[33mseo\u001b[39m\u001b[33m\"\u001b[39m][\u001b[33m\"\u001b[39m\u001b[33murl\u001b[39m\u001b[33m\"\u001b[39m],\n\u001b[32m     49\u001b[39m         contract=data[\u001b[33m\"\u001b[39m\u001b[33mrealEstate\u001b[39m\u001b[33m\"\u001b[39m][\u001b[33m\"\u001b[39m\u001b[33mcontract\u001b[39m\u001b[33m\"\u001b[39m],\n\u001b[32m     50\u001b[39m         agency_id=data[\u001b[33m\"\u001b[39m\u001b[33mrealEstate\u001b[39m\u001b[33m\"\u001b[39m][\u001b[33m\"\u001b[39m\u001b[33madvertiser\u001b[39m\u001b[33m\"\u001b[39m].get(\u001b[33m\"\u001b[39m\u001b[33magency\u001b[39m\u001b[33m\"\u001b[39m, {}).get(\u001b[33m\"\u001b[39m\u001b[33mlabel\u001b[39m\u001b[33m\"\u001b[39m),\n\u001b[32m     51\u001b[39m         agency_url=data[\u001b[33m\"\u001b[39m\u001b[33mrealEstate\u001b[39m\u001b[33m\"\u001b[39m][\u001b[33m\"\u001b[39m\u001b[33madvertiser\u001b[39m\u001b[33m\"\u001b[39m].get(\u001b[33m\"\u001b[39m\u001b[33magency\u001b[39m\u001b[33m\"\u001b[39m, {}).get(\u001b[33m\"\u001b[39m\u001b[33magencyUrl\u001b[39m\u001b[33m\"\u001b[39m),\n\u001b[32m     52\u001b[39m         agency_name=data[\u001b[33m\"\u001b[39m\u001b[33mrealEstate\u001b[39m\u001b[33m\"\u001b[39m][\u001b[33m\"\u001b[39m\u001b[33madvertiser\u001b[39m\u001b[33m\"\u001b[39m].get(\u001b[33m\"\u001b[39m\u001b[33magency\u001b[39m\u001b[33m\"\u001b[39m, {}).get(\u001b[33m\"\u001b[39m\u001b[33mdisplayName\u001b[39m\u001b[33m\"\u001b[39m),\n\u001b[32m     53\u001b[39m         is_private_ad=data[\u001b[33m\"\u001b[39m\u001b[33mrealEstate\u001b[39m\u001b[33m\"\u001b[39m][\u001b[33m\"\u001b[39m\u001b[33madvertiser\u001b[39m\u001b[33m\"\u001b[39m].get(\u001b[33m\"\u001b[39m\u001b[33magency\u001b[39m\u001b[33m\"\u001b[39m) \u001b[38;5;129;01mis\u001b[39;00m \u001b[38;5;28;01mNone\u001b[39;00m,\n\u001b[32m     54\u001b[39m         is_new=\u001b[38;5;28mbool\u001b[39m(data[\u001b[33m\"\u001b[39m\u001b[33mrealEstate\u001b[39m\u001b[33m\"\u001b[39m][\u001b[33m\"\u001b[39m\u001b[33misNew\u001b[39m\u001b[33m\"\u001b[39m]),\n\u001b[32m     55\u001b[39m         is_luxury=\u001b[38;5;28mbool\u001b[39m(data[\u001b[33m\"\u001b[39m\u001b[33mrealEstate\u001b[39m\u001b[33m\"\u001b[39m][\u001b[33m\"\u001b[39m\u001b[33mluxury\u001b[39m\u001b[33m\"\u001b[39m]),\n\u001b[32m     56\u001b[39m         formatted_price=data[\u001b[33m\"\u001b[39m\u001b[33mrealEstate\u001b[39m\u001b[33m\"\u001b[39m][\u001b[33m\"\u001b[39m\u001b[33mprice\u001b[39m\u001b[33m\"\u001b[39m][\u001b[33m\"\u001b[39m\u001b[33mformattedValue\u001b[39m\u001b[33m\"\u001b[39m],\n\u001b[32m     57\u001b[39m         price=data[\u001b[33m\"\u001b[39m\u001b[33mrealEstate\u001b[39m\u001b[33m\"\u001b[39m][\u001b[33m\"\u001b[39m\u001b[33mprice\u001b[39m\u001b[33m\"\u001b[39m].get(\u001b[33m\"\u001b[39m\u001b[33mvalue\u001b[39m\u001b[33m\"\u001b[39m),\n\u001b[32m     58\u001b[39m         bathrooms=data[\u001b[33m\"\u001b[39m\u001b[33mrealEstate\u001b[39m\u001b[33m\"\u001b[39m][\u001b[33m\"\u001b[39m\u001b[33mproperties\u001b[39m\u001b[33m\"\u001b[39m][\u001b[32m0\u001b[39m].get(\u001b[33m\"\u001b[39m\u001b[33mbathrooms\u001b[39m\u001b[33m\"\u001b[39m),\n\u001b[32m     59\u001b[39m         bedrooms=data[\u001b[33m\"\u001b[39m\u001b[33mrealEstate\u001b[39m\u001b[33m\"\u001b[39m][\u001b[33m\"\u001b[39m\u001b[33mproperties\u001b[39m\u001b[33m\"\u001b[39m][\u001b[32m0\u001b[39m].get(\u001b[33m\"\u001b[39m\u001b[33mbedRoomsNumber\u001b[39m\u001b[33m\"\u001b[39m),\n\u001b[32m     60\u001b[39m         floor=data[\u001b[33m\"\u001b[39m\u001b[33mrealEstate\u001b[39m\u001b[33m\"\u001b[39m][\u001b[33m\"\u001b[39m\u001b[33mproperties\u001b[39m\u001b[33m\"\u001b[39m][\u001b[32m0\u001b[39m].get(\u001b[33m\"\u001b[39m\u001b[33mfloor\u001b[39m\u001b[33m\"\u001b[39m, {}).get(\u001b[33m\"\u001b[39m\u001b[33mabbreviation\u001b[39m\u001b[33m\"\u001b[39m),\n\u001b[32m     61\u001b[39m         formatted_floor=data[\u001b[33m\"\u001b[39m\u001b[33mrealEstate\u001b[39m\u001b[33m\"\u001b[39m][\u001b[33m\"\u001b[39m\u001b[33mproperties\u001b[39m\u001b[33m\"\u001b[39m][\u001b[32m0\u001b[39m].get(\u001b[33m\"\u001b[39m\u001b[33mfloor\u001b[39m\u001b[33m\"\u001b[39m, {}).get(\u001b[33m\"\u001b[39m\u001b[33mvalue\u001b[39m\u001b[33m\"\u001b[39m),\n\u001b[32m     62\u001b[39m         total_floors=data[\u001b[33m\"\u001b[39m\u001b[33mrealEstate\u001b[39m\u001b[33m\"\u001b[39m][\u001b[33m\"\u001b[39m\u001b[33mproperties\u001b[39m\u001b[33m\"\u001b[39m][\u001b[32m0\u001b[39m].get(\u001b[33m\"\u001b[39m\u001b[33mfloors\u001b[39m\u001b[33m\"\u001b[39m),\n\u001b[32m     63\u001b[39m         condition=data[\u001b[33m\"\u001b[39m\u001b[33mrealEstate\u001b[39m\u001b[33m\"\u001b[39m][\u001b[33m\"\u001b[39m\u001b[33mproperties\u001b[39m\u001b[33m\"\u001b[39m][\u001b[32m0\u001b[39m].get(\u001b[33m\"\u001b[39m\u001b[33mcondition\u001b[39m\u001b[33m\"\u001b[39m),\n\u001b[32m     64\u001b[39m         rooms=data[\u001b[33m\"\u001b[39m\u001b[33mrealEstate\u001b[39m\u001b[33m\"\u001b[39m][\u001b[33m\"\u001b[39m\u001b[33mproperties\u001b[39m\u001b[33m\"\u001b[39m][\u001b[32m0\u001b[39m].get(\u001b[33m\"\u001b[39m\u001b[33mrooms\u001b[39m\u001b[33m\"\u001b[39m),\n\u001b[32m     65\u001b[39m         has_elevators=\u001b[38;5;28mbool\u001b[39m(data[\u001b[33m\"\u001b[39m\u001b[33mrealEstate\u001b[39m\u001b[33m\"\u001b[39m][\u001b[33m\"\u001b[39m\u001b[33mproperties\u001b[39m\u001b[33m\"\u001b[39m][\u001b[32m0\u001b[39m].get(\u001b[33m\"\u001b[39m\u001b[33mhasElevators\u001b[39m\u001b[33m\"\u001b[39m)),\n\u001b[32m     66\u001b[39m         surface=\u001b[38;5;28;01mNone\u001b[39;00m,  \u001b[38;5;66;03m# Will be processed separately\u001b[39;00m\n\u001b[32m     67\u001b[39m         surface_formatted=data[\u001b[33m\"\u001b[39m\u001b[33mrealEstate\u001b[39m\u001b[33m\"\u001b[39m][\u001b[33m\"\u001b[39m\u001b[33mproperties\u001b[39m\u001b[33m\"\u001b[39m][\u001b[32m0\u001b[39m].get(\u001b[33m\"\u001b[39m\u001b[33msurface\u001b[39m\u001b[33m\"\u001b[39m),\n\u001b[32m     68\u001b[39m         \u001b[38;5;28mtype\u001b[39m=data[\u001b[33m\"\u001b[39m\u001b[33mrealEstate\u001b[39m\u001b[33m\"\u001b[39m][\u001b[33m\"\u001b[39m\u001b[33mproperties\u001b[39m\u001b[33m\"\u001b[39m][\u001b[32m0\u001b[39m][\u001b[33m\"\u001b[39m\u001b[33mtypologyGA4Translation\u001b[39m\u001b[33m\"\u001b[39m],\n\u001b[32m     69\u001b[39m         caption=data[\u001b[33m\"\u001b[39m\u001b[33mrealEstate\u001b[39m\u001b[33m\"\u001b[39m][\u001b[33m\"\u001b[39m\u001b[33mproperties\u001b[39m\u001b[33m\"\u001b[39m][\u001b[32m0\u001b[39m].get(\u001b[33m\"\u001b[39m\u001b[33mcaption\u001b[39m\u001b[33m\"\u001b[39m),\n\u001b[32m     70\u001b[39m         category=data[\u001b[33m\"\u001b[39m\u001b[33mrealEstate\u001b[39m\u001b[33m\"\u001b[39m][\u001b[33m\"\u001b[39m\u001b[33mproperties\u001b[39m\u001b[33m\"\u001b[39m][\u001b[32m0\u001b[39m][\u001b[33m\"\u001b[39m\u001b[33mcategory\u001b[39m\u001b[33m\"\u001b[39m][\u001b[33m\"\u001b[39m\u001b[33mname\u001b[39m\u001b[33m\"\u001b[39m],\n\u001b[32m     71\u001b[39m         description=data[\u001b[33m\"\u001b[39m\u001b[33mrealEstate\u001b[39m\u001b[33m\"\u001b[39m][\u001b[33m\"\u001b[39m\u001b[33mproperties\u001b[39m\u001b[33m\"\u001b[39m][\u001b[32m0\u001b[39m].get(\u001b[33m\"\u001b[39m\u001b[33mdescription\u001b[39m\u001b[33m\"\u001b[39m),\n\u001b[32m     72\u001b[39m         heating_type=data[\u001b[33m\"\u001b[39m\u001b[33mrealEstate\u001b[39m\u001b[33m\"\u001b[39m][\u001b[33m\"\u001b[39m\u001b[33mproperties\u001b[39m\u001b[33m\"\u001b[39m][\u001b[32m0\u001b[39m].get(\u001b[33m\"\u001b[39m\u001b[33menergy\u001b[39m\u001b[33m\"\u001b[39m, {}).get(\u001b[33m\"\u001b[39m\u001b[33mheatingType\u001b[39m\u001b[33m\"\u001b[39m),\n\u001b[32m     73\u001b[39m         air_conditioning=data[\u001b[33m\"\u001b[39m\u001b[33mrealEstate\u001b[39m\u001b[33m\"\u001b[39m][\u001b[33m\"\u001b[39m\u001b[33mproperties\u001b[39m\u001b[33m\"\u001b[39m][\u001b[32m0\u001b[39m].get(\u001b[33m\"\u001b[39m\u001b[33menergy\u001b[39m\u001b[33m\"\u001b[39m, {}).get(\u001b[33m\"\u001b[39m\u001b[33mairConditioning\u001b[39m\u001b[33m\"\u001b[39m),\n\u001b[32m     74\u001b[39m         latitude=\u001b[38;5;28mfloat\u001b[39m(data[\u001b[33m\"\u001b[39m\u001b[33mrealEstate\u001b[39m\u001b[33m\"\u001b[39m][\u001b[33m\"\u001b[39m\u001b[33mproperties\u001b[39m\u001b[33m\"\u001b[39m][\u001b[32m0\u001b[39m][\u001b[33m\"\u001b[39m\u001b[33mlocation\u001b[39m\u001b[33m\"\u001b[39m][\u001b[33m\"\u001b[39m\u001b[33mlatitude\u001b[39m\u001b[33m\"\u001b[39m]),\n\u001b[32m     75\u001b[39m         longitude=\u001b[38;5;28mfloat\u001b[39m(data[\u001b[33m\"\u001b[39m\u001b[33mrealEstate\u001b[39m\u001b[33m\"\u001b[39m][\u001b[33m\"\u001b[39m\u001b[33mproperties\u001b[39m\u001b[33m\"\u001b[39m][\u001b[32m0\u001b[39m][\u001b[33m\"\u001b[39m\u001b[33mlocation\u001b[39m\u001b[33m\"\u001b[39m][\u001b[33m\"\u001b[39m\u001b[33mlongitude\u001b[39m\u001b[33m\"\u001b[39m]),\n\u001b[32m     76\u001b[39m         region=data[\u001b[33m\"\u001b[39m\u001b[33mrealEstate\u001b[39m\u001b[33m\"\u001b[39m][\u001b[33m\"\u001b[39m\u001b[33mproperties\u001b[39m\u001b[33m\"\u001b[39m][\u001b[32m0\u001b[39m][\u001b[33m\"\u001b[39m\u001b[33mlocation\u001b[39m\u001b[33m\"\u001b[39m][\u001b[33m\"\u001b[39m\u001b[33mregion\u001b[39m\u001b[33m\"\u001b[39m],\n\u001b[32m     77\u001b[39m         province=data[\u001b[33m\"\u001b[39m\u001b[33mrealEstate\u001b[39m\u001b[33m\"\u001b[39m][\u001b[33m\"\u001b[39m\u001b[33mproperties\u001b[39m\u001b[33m\"\u001b[39m][\u001b[32m0\u001b[39m][\u001b[33m\"\u001b[39m\u001b[33mlocation\u001b[39m\u001b[33m\"\u001b[39m][\u001b[33m\"\u001b[39m\u001b[33mprovince\u001b[39m\u001b[33m\"\u001b[39m],\n\u001b[32m     78\u001b[39m         macrozone=data[\u001b[33m\"\u001b[39m\u001b[33mrealEstate\u001b[39m\u001b[33m\"\u001b[39m][\u001b[33m\"\u001b[39m\u001b[33mproperties\u001b[39m\u001b[33m\"\u001b[39m][\u001b[32m0\u001b[39m][\u001b[33m\"\u001b[39m\u001b[33mlocation\u001b[39m\u001b[33m\"\u001b[39m][\u001b[33m\"\u001b[39m\u001b[33mmacrozone\u001b[39m\u001b[33m\"\u001b[39m],\n\u001b[32m     79\u001b[39m         microzone=data[\u001b[33m\"\u001b[39m\u001b[33mrealEstate\u001b[39m\u001b[33m\"\u001b[39m][\u001b[33m\"\u001b[39m\u001b[33mproperties\u001b[39m\u001b[33m\"\u001b[39m][\u001b[32m0\u001b[39m][\u001b[33m\"\u001b[39m\u001b[33mlocation\u001b[39m\u001b[33m\"\u001b[39m][\u001b[33m\"\u001b[39m\u001b[33mmicrozone\u001b[39m\u001b[33m\"\u001b[39m],\n\u001b[32m     80\u001b[39m         city=data[\u001b[33m\"\u001b[39m\u001b[33mrealEstate\u001b[39m\u001b[33m\"\u001b[39m][\u001b[33m\"\u001b[39m\u001b[33mproperties\u001b[39m\u001b[33m\"\u001b[39m][\u001b[32m0\u001b[39m][\u001b[33m\"\u001b[39m\u001b[33mlocation\u001b[39m\u001b[33m\"\u001b[39m][\u001b[33m\"\u001b[39m\u001b[33mcity\u001b[39m\u001b[33m\"\u001b[39m],\n\u001b[32m     81\u001b[39m         country=data[\u001b[33m\"\u001b[39m\u001b[33mrealEstate\u001b[39m\u001b[33m\"\u001b[39m][\u001b[33m\"\u001b[39m\u001b[33mproperties\u001b[39m\u001b[33m\"\u001b[39m][\u001b[32m0\u001b[39m][\u001b[33m\"\u001b[39m\u001b[33mlocation\u001b[39m\u001b[33m\"\u001b[39m][\u001b[33m\"\u001b[39m\u001b[33mnation\u001b[39m\u001b[33m\"\u001b[39m][\u001b[33m\"\u001b[39m\u001b[33mid\u001b[39m\u001b[33m\"\u001b[39m]\n\u001b[32m     82\u001b[39m     )\n",
      "\u001b[31mKeyError\u001b[39m: 'realEstate'"
     ]
    }
   ],
   "source": [
    "from sources.connectors.immobiliare import DataStorage\n",
    "\n",
    "# Save data\n",
    "scraper.save_data_json(\"test_export.json\")\n",
    "scraper.save_data_csv(\"test_export.csv\")\n",
    "\n",
    "# Load data\n",
    "storage = DataStorage()\n",
    "loaded_json_data = storage.load_json(\"test_export.json\")\n",
    "loaded_csv_data = storage.load_csv(\"test_export.csv\")\n",
    "\n",
    "print(f\"Loaded {len(loaded_json_data)} properties from JSON\")\n",
    "print(f\"Loaded {len(loaded_csv_data)} properties from CSV\")"
   ]
  },
  {
   "cell_type": "code",
   "execution_count": null,
   "metadata": {},
   "outputs": [],
   "source": []
  }
 ],
 "metadata": {
  "kernelspec": {
   "display_name": "Python 3 (ipykernel)",
   "language": "python",
   "name": "python3"
  },
  "language_info": {
   "codemirror_mode": {
    "name": "ipython",
    "version": 3
   },
   "file_extension": ".py",
   "mimetype": "text/x-python",
   "name": "python",
   "nbconvert_exporter": "python",
   "pygments_lexer": "ipython3",
   "version": "3.12.6"
  }
 },
 "nbformat": 4,
 "nbformat_minor": 4
}

{
 "cells": [
  {
   "cell_type": "markdown",
   "metadata": {},
   "source": [
    "# Immobiliare Connector Test\n",
    "\n",
    "This notebook demonstrates the usage of the immobiliare connector for scraping real estate data."
   ]
  },
  {
   "cell_type": "code",
   "execution_count": 2,
   "metadata": {},
   "outputs": [],
   "source": [
    "import os\n",
    "import sys\n",
    "from pathlib import Path\n",
    "import pandas as pd\n",
    "import matplotlib.pyplot as plt\n",
    "\n",
    "# Add project root to Python path\n",
    "project_root = Path.cwd().parent.parent\n",
    "if str(project_root) not in sys.path:\n",
    "    sys.path.insert(0, str(project_root))\n",
    "\n",
    "# Import the connector\n",
    "from sources.connectors.immobiliare import ImmobiliareScraper"
   ]
  },
  {
   "cell_type": "markdown",
   "metadata": {},
   "source": [
    "## Basic Usage\n",
    "\n",
    "Let's start with a basic example of scraping a single page of real estate listings."
   ]
  },
  {
   "cell_type": "code",
   "execution_count": 3,
   "metadata": {},
   "outputs": [
    {
     "name": "stdout",
     "output_type": "stream",
     "text": [
      "Storage directory: C:\\Users\\gabri\\workspace\\aida_projects\\quant-estate\\data\\immobiliare_data_2025-05-30\n",
      "Getting real estate data of https://www.immobiliare.it/vendita-case/milano/?criterio=rilevanza\n",
      "Requesting URL: https://www.immobiliare.it/vendita-case/milano/?criterio=rilevanza\n",
      "Scraped 25 properties\n",
      "\n",
      "First property details:\n",
      "ID: 120855202\n",
      "Type: Appartamento\n",
      "Price: € 750.000\n",
      "Location: Milano, Milano\n"
     ]
    }
   ],
   "source": [
    "# Create a scraper instance for a single page\n",
    "scraper = ImmobiliareScraper(\n",
    "    url=\"https://www.immobiliare.it/vendita-case/milano/?criterio=rilevanza\",\n",
    "    get_data_of_following_pages=False\n",
    ")\n",
    "\n",
    "# Display basic information\n",
    "print(f\"Scraped {len(scraper.real_estates)} properties\")\n",
    "print(f\"\\nFirst property details:\")\n",
    "if scraper.real_estates:\n",
    "    first_property = scraper.real_estates[0]\n",
    "    print(f\"ID: {first_property.id}\")\n",
    "    print(f\"Type: {first_property.type}\")\n",
    "    print(f\"Price: {first_property.formatted_price}\")\n",
    "    print(f\"Location: {first_property.city}, {first_property.province}\")"
   ]
  },
  {
   "cell_type": "markdown",
   "metadata": {},
   "source": [
    "## Data Analysis\n",
    "\n",
    "Let's analyze the scraped data using pandas."
   ]
  },
  {
   "cell_type": "code",
   "execution_count": 4,
   "metadata": {},
   "outputs": [
    {
     "name": "stdout",
     "output_type": "stream",
     "text": [
      "Basic Statistics:\n",
      "Total properties: 25\n",
      "\n",
      "Property types:\n",
      "type\n",
      "Appartamento    20\n",
      "Progetto         5\n",
      "Name: count, dtype: int64\n",
      "\n",
      "Price statistics (€):\n",
      "count    2.500000e+01\n",
      "mean     4.398000e+05\n",
      "std      2.293851e+05\n",
      "min      2.280000e+05\n",
      "25%      2.850000e+05\n",
      "50%      3.495000e+05\n",
      "75%      5.100000e+05\n",
      "max      1.130000e+06\n",
      "Name: price, dtype: float64\n",
      "\n",
      "Properties by city:\n",
      "city\n",
      "Milano    25\n",
      "Name: count, dtype: int64\n"
     ]
    }
   ],
   "source": [
    "# Convert to DataFrame and display basic statistics\n",
    "df = scraper.data_frame\n",
    "\n",
    "# Display basic statistics\n",
    "print(\"Basic Statistics:\")\n",
    "print(f\"Total properties: {len(df)}\")\n",
    "print(f\"\\nProperty types:\")\n",
    "print(df['type'].value_counts())\n",
    "\n",
    "# Price analysis\n",
    "print(f\"\\nPrice statistics (€):\")\n",
    "print(df['price'].describe())\n",
    "\n",
    "# Location analysis\n",
    "print(f\"\\nProperties by city:\")\n",
    "print(df['city'].value_counts())"
   ]
  },
  {
   "cell_type": "markdown",
   "metadata": {},
   "source": [
    "## Multi-page Scraping\n",
    "\n",
    "Let's test scraping multiple pages of results."
   ]
  },
  {
   "cell_type": "code",
   "execution_count": 5,
   "metadata": {},
   "outputs": [
    {
     "name": "stdout",
     "output_type": "stream",
     "text": [
      "Storage directory: C:\\Users\\gabri\\workspace\\aida_projects\\quant-estate\\data\\immobiliare_data_2025-05-30\n",
      "Getting real estate data of https://www.immobiliare.it/vendita-case/milano/?criterio=rilevanza\n",
      "Requesting URL: https://www.immobiliare.it/vendita-case/milano/?criterio=rilevanza\n",
      "Getting real estate data of https://www.immobiliare.it/vendita-case/milano/?criterio=rilevanza&pag=2\n",
      "Requesting URL: https://www.immobiliare.it/vendita-case/milano/?criterio=rilevanza&pag=2\n",
      "Getting real estate data of https://www.immobiliare.it/vendita-case/milano/?criterio=rilevanza&pag=3\n",
      "Requesting URL: https://www.immobiliare.it/vendita-case/milano/?criterio=rilevanza&pag=3\n",
      "Reached maximum page limit of 3\n",
      "Scraped 75 properties from multiple pages\n"
     ]
    }
   ],
   "source": [
    "# Create a scraper instance for multiple pages\n",
    "multi_page_scraper = ImmobiliareScraper(\n",
    "    url=\"https://www.immobiliare.it/vendita-case/milano/?criterio=rilevanza\",\n",
    "    get_data_of_following_pages=True,\n",
    "    max_pages=3\n",
    ")\n",
    "\n",
    "# Display results\n",
    "print(f\"Scraped {len(multi_page_scraper.real_estates)} properties from multiple pages\")\n",
    "\n"
   ]
  },
  {
   "cell_type": "code",
   "execution_count": 5,
   "metadata": {},
   "outputs": [
    {
     "name": "stdout",
     "output_type": "stream",
     "text": [
      "Saved JSON to C:\\Users\\gabri\\workspace\\aida_projects\\quant-estate\\data\\immobiliare\\multi_page_results.json\n",
      "Saved CSV to C:\\Users\\gabri\\workspace\\aida_projects\\quant-estate\\data\\immobiliare\\multi_page_results.csv\n"
     ]
    }
   ],
   "source": [
    "# Save the results\n",
    "multi_page_scraper.save_data_json(\"multi_page_results.json\")\n",
    "multi_page_scraper.save_data_csv(\"multi_page_results.csv\")"
   ]
  },
  {
   "cell_type": "markdown",
   "metadata": {},
   "source": [
    "## Error Handling\n",
    "\n",
    "Let's test the error handling capabilities of the connector."
   ]
  },
  {
   "cell_type": "code",
   "execution_count": null,
   "metadata": {},
   "outputs": [],
   "source": [
    "from sources.connectors.immobiliare import InvalidURLError\n",
    "\n",
    "try:\n",
    "    # Try with an invalid URL\n",
    "    invalid_scraper = ImmobiliareScraper(\n",
    "        url=\"https://invalid-url.com\",\n",
    "        get_data_of_following_pages=False\n",
    "    )\n",
    "except InvalidURLError as e:\n",
    "    print(f\"Caught expected error: {e}\")\n",
    "except Exception as e:\n",
    "    print(f\"Unexpected error: {e}\")"
   ]
  },
  {
   "cell_type": "markdown",
   "metadata": {},
   "source": [
    "## Data Export/Import Test\n",
    "\n",
    "Let's test saving and loading data in different formats."
   ]
  },
  {
   "cell_type": "code",
   "execution_count": null,
   "metadata": {},
   "outputs": [],
   "source": [
    "from sources.connectors.immobiliare import DataStorage\n",
    "\n",
    "# Save data\n",
    "scraper.save_data_json(\"test_export.json\")\n",
    "scraper.save_data_csv(\"test_export.csv\")\n",
    "\n",
    "# Load data\n",
    "storage = DataStorage()\n",
    "loaded_json_data = storage.load_json(\"test_export.json\")\n",
    "loaded_csv_data = storage.load_csv(\"test_export.csv\")\n",
    "\n",
    "print(f\"Loaded {len(loaded_json_data)} properties from JSON\")\n",
    "print(f\"Loaded {len(loaded_csv_data)} properties from CSV\")"
   ]
  }
 ],
 "metadata": {
  "kernelspec": {
   "display_name": "Python 3 (ipykernel)",
   "language": "python",
   "name": "python3"
  },
  "language_info": {
   "codemirror_mode": {
    "name": "ipython",
    "version": 3
   },
   "file_extension": ".py",
   "mimetype": "text/x-python",
   "name": "python",
   "nbconvert_exporter": "python",
   "pygments_lexer": "ipython3",
   "version": "3.12.6"
  }
 },
 "nbformat": 4,
 "nbformat_minor": 4
}

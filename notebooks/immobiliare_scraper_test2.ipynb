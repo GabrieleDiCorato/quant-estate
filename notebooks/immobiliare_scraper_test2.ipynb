{
 "cells": [
  {
   "cell_type": "markdown",
   "metadata": {},
   "source": [
    "# Immobiliare Connector Test\n",
    "\n",
    "This notebook demonstrates the usage of the immobiliare connector for scraping real estate data."
   ]
  },
  {
   "cell_type": "code",
   "execution_count": 1,
   "metadata": {},
   "outputs": [],
   "source": [
    "from pathlib import Path\n",
    "import sys\n",
    "import pandas as pd\n",
    "\n",
    "# Find the project root (adjust as needed)\n",
    "project_root = Path(__file__).parent.parent if '__file__' in globals() else Path().cwd().parent\n",
    "\n",
    "# Add sources to sys.path\n",
    "sys.path.append(str(project_root / \"sources\"))\n",
    "from connectors import ConfigManager\n",
    "from connectors.immobiliare import ImmobiliareConnector, FileStorage\n",
    "\n",
    "# If you need to pass a config path, do it like this:\n",
    "config_path = \"project_root /sources/connectors/immobiliare/config/default.yaml\""
   ]
  },
  {
   "cell_type": "markdown",
   "metadata": {},
   "source": [
    "## Basic Usage\n",
    "\n",
    "Let's start with a basic example of scraping a single page of real estate listings."
   ]
  },
  {
   "cell_type": "code",
   "execution_count": 2,
   "metadata": {},
   "outputs": [
    {
     "name": "stdout",
     "output_type": "stream",
     "text": [
      "Creating connector...\n",
      "Storage directory: C:\\Users\\gabri\\workspace\\aida_projects\\quant-estate\\.venv\\Lib\\data\\immobiliare_data_2025-06-03\n",
      "Storage initialized at: C:\\Users\\gabri\\workspace\\aida_projects\\quant-estate\\.venv\\Lib\\data\\immobiliare_data_2025-06-03\n",
      "Initialized CSV file: C:\\Users\\gabri\\workspace\\aida_projects\\quant-estate\\.venv\\Lib\\data\\immobiliare_data_2025-06-03\\immobiliare.csv\n",
      "\n",
      "Starting scraping from: https://www.immobiliare.it/vendita-case/milano/\n"
     ]
    },
    {
     "ename": "KeyboardInterrupt",
     "evalue": "",
     "output_type": "error",
     "traceback": [
      "\u001b[31m---------------------------------------------------------------\u001b[39m",
      "\u001b[31mKeyboardInterrupt\u001b[39m             Traceback (most recent call last)",
      "\u001b[36mCell\u001b[39m\u001b[36m \u001b[39m\u001b[32mIn[2]\u001b[39m\u001b[32m, line 14\u001b[39m\n\u001b[32m     12\u001b[39m \u001b[38;5;28mprint\u001b[39m(\u001b[33mf\u001b[39m\u001b[33m\"\u001b[39m\u001b[38;5;130;01m\\n\u001b[39;00m\u001b[33mStarting scraping from: \u001b[39m\u001b[38;5;132;01m{\u001b[39;00mtest_url\u001b[38;5;132;01m}\u001b[39;00m\u001b[33m\"\u001b[39m)\n\u001b[32m     13\u001b[39m \u001b[38;5;28;01mtry\u001b[39;00m:\n\u001b[32m---> \u001b[39m\u001b[32m14\u001b[39m     \u001b[43mconnector\u001b[49m\u001b[43m.\u001b[49m\u001b[43mscrape_and_store\u001b[49m\u001b[43m(\u001b[49m\u001b[43mtest_url\u001b[49m\u001b[43m)\u001b[49m\n\u001b[32m     15\u001b[39m     \u001b[38;5;28mprint\u001b[39m(\u001b[33m\"\u001b[39m\u001b[33mScraping completed successfully!\u001b[39m\u001b[33m\"\u001b[39m)\n\u001b[32m     16\u001b[39m \u001b[38;5;28;01mexcept\u001b[39;00m \u001b[38;5;167;01mException\u001b[39;00m \u001b[38;5;28;01mas\u001b[39;00m e:\n",
      "\u001b[36mFile \u001b[39m\u001b[32m~\\workspace\\aida_projects\\quant-estate\\.venv\\Lib\\site-packages\\connectors\\base.py:92\u001b[39m, in \u001b[36mBaseConnector.scrape_and_store\u001b[39m\u001b[34m(self, start_url, max_pages)\u001b[39m\n\u001b[32m     89\u001b[39m \u001b[38;5;28;01mwhile\u001b[39;00m \u001b[38;5;28;01mTrue\u001b[39;00m:\n\u001b[32m     90\u001b[39m     \u001b[38;5;28;01mtry\u001b[39;00m:\n\u001b[32m     91\u001b[39m         \u001b[38;5;66;03m# Get and parse the page\u001b[39;00m\n\u001b[32m---> \u001b[39m\u001b[32m92\u001b[39m         response = \u001b[38;5;28;43mself\u001b[39;49m\u001b[43m.\u001b[49m\u001b[43mscraper\u001b[49m\u001b[43m.\u001b[49m\u001b[43mget_page\u001b[49m\u001b[43m(\u001b[49m\u001b[43mcurrent_url\u001b[49m\u001b[43m)\u001b[49m\n\u001b[32m     93\u001b[39m         data = \u001b[38;5;28mself\u001b[39m.scraper.extract_data(response)\n\u001b[32m     95\u001b[39m         \u001b[38;5;28;01mif\u001b[39;00m \u001b[38;5;129;01mnot\u001b[39;00m data:\n",
      "\u001b[36mFile \u001b[39m\u001b[32m~\\workspace\\aida_projects\\quant-estate\\.venv\\Lib\\site-packages\\connectors\\base.py:43\u001b[39m, in \u001b[36mBaseScraper.get_page\u001b[39m\u001b[34m(self, url)\u001b[39m\n\u001b[32m     41\u001b[39m \u001b[38;5;28;01mtry\u001b[39;00m:\n\u001b[32m     42\u001b[39m     response = requests.get(url, headers=\u001b[38;5;28mself\u001b[39m.headers)\n\u001b[32m---> \u001b[39m\u001b[32m43\u001b[39m     \u001b[43mtime\u001b[49m\u001b[43m.\u001b[49m\u001b[43msleep\u001b[49m\u001b[43m(\u001b[49m\u001b[43mrandom\u001b[49m\u001b[43m.\u001b[49m\u001b[43muniform\u001b[49m\u001b[43m(\u001b[49m\u001b[38;5;28;43mself\u001b[39;49m\u001b[43m.\u001b[49m\u001b[43mmin_delay\u001b[49m\u001b[43m,\u001b[49m\u001b[43m \u001b[49m\u001b[38;5;28;43mself\u001b[39;49m\u001b[43m.\u001b[49m\u001b[43mmax_delay\u001b[49m\u001b[43m)\u001b[49m\u001b[43m)\u001b[49m\n\u001b[32m     45\u001b[39m     \u001b[38;5;28;01mif\u001b[39;00m response.status_code != \u001b[32m200\u001b[39m:\n\u001b[32m     46\u001b[39m         \u001b[38;5;28;01mraise\u001b[39;00m \u001b[38;5;167;01mException\u001b[39;00m(\u001b[33mf\u001b[39m\u001b[33m\"\u001b[39m\u001b[33mRequest failed with status code \u001b[39m\u001b[38;5;132;01m{\u001b[39;00mresponse.status_code\u001b[38;5;132;01m}\u001b[39;00m\u001b[33m\"\u001b[39m)\n",
      "\u001b[31mKeyboardInterrupt\u001b[39m: "
     ]
    }
   ],
   "source": [
    "# Initialize config manager\n",
    "config_manager = ConfigManager()\n",
    "\n",
    "# Create connector with config\n",
    "print(\"Creating connector...\")\n",
    "connector = ImmobiliareConnector(config_manager=config_manager)\n",
    "\n",
    "# Example URL for Rome apartments\n",
    "test_url = \"https://www.immobiliare.it/vendita-case/milano/\"\n",
    "\n",
    "# Start scraping\n",
    "print(f\"\\nStarting scraping from: {test_url}\")\n",
    "try:\n",
    "    connector.scrape_and_store(test_url)\n",
    "    print(\"Scraping completed successfully!\")\n",
    "except Exception as e:\n",
    "    print(f\"Error during scraping: {e}\")\n",
    "\n",
    "\n",
    "# Load and display the results\n",
    "print(\"\\nLoading results from CSV...\")\n",
    "try:\n",
    "    # Get the storage instance from the connector\n",
    "    storage = connector.storage\n",
    "    df = pd.read_csv(storage.csv_file)\n",
    "    \n",
    "    # Display basic information\n",
    "    print(f\"\\nTotal records: {len(df)}\")\n",
    "    print(\"\\nColumns:\")\n",
    "    print(df.columns.tolist())\n",
    "    \n",
    "    # Display first few records\n",
    "    print(\"\\nFirst 5 records:\")\n",
    "    print(df.head())\n",
    "    \n",
    "    # Basic statistics\n",
    "    print(\"\\nPrice Statistics:\")\n",
    "    print(df['price'].describe())\n",
    "    \n",
    "    print(\"\\nSurface Statistics:\")\n",
    "    print(df['surface'].describe())\n",
    "    \n",
    "    print(\"\\nProperty Types:\")\n",
    "    print(df['property_type'].value_counts())\n",
    "    \n",
    "except Exception as e:\n",
    "    print(f\"Error analyzing results: {e}\")"
   ]
  },
  {
   "cell_type": "code",
   "execution_count": null,
   "metadata": {},
   "outputs": [],
   "source": []
  }
 ],
 "metadata": {
  "kernelspec": {
   "display_name": "Python 3 (ipykernel)",
   "language": "python",
   "name": "python3"
  },
  "language_info": {
   "codemirror_mode": {
    "name": "ipython",
    "version": 3
   },
   "file_extension": ".py",
   "mimetype": "text/x-python",
   "name": "python",
   "nbconvert_exporter": "python",
   "pygments_lexer": "ipython3",
   "version": "3.12.6"
  }
 },
 "nbformat": 4,
 "nbformat_minor": 4
}

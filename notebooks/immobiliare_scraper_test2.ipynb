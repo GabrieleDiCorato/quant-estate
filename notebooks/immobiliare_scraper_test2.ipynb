{
 "cells": [
  {
   "cell_type": "markdown",
   "metadata": {},
   "source": [
    "# Immobiliare Connector Test\n",
    "\n",
    "This notebook demonstrates the usage of the immobiliare connector for scraping real estate data."
   ]
  },
  {
   "cell_type": "code",
   "execution_count": 1,
   "metadata": {},
   "outputs": [
    {
     "name": "stdout",
     "output_type": "stream",
     "text": [
      "Project root: C:\\Users\\gabri\\workspace\\aida_projects\\quant-estate\n",
      "Added to Python path: C:\\Users\\gabri\\workspace\\aida_projects\\quant-estate\n"
     ]
    }
   ],
   "source": [
    "import sys\n",
    "import logging\n",
    "from datetime import datetime\n",
    "from pathlib import Path\n",
    "\n",
    "# Find the project root\n",
    "project_root = Path().cwd().parent\n",
    "print(f\"Project root: {project_root}\")\n",
    "\n",
    "# Add project root to Python path (not just sources)\n",
    "sys.path.insert(0, str(project_root))\n",
    "print(f\"Added to Python path: {project_root}\")\n",
    "\n",
    "# Now import from sources\n",
    "from sources.config import ConfigManager\n",
    "from sources.connectors.immobiliare import ImmobiliareConnector\n",
    "from sources.connectors.exceptions import ScrapingError, StorageError"
   ]
  },
  {
   "cell_type": "code",
   "execution_count": 2,
   "metadata": {},
   "outputs": [],
   "source": [
    "def setup_logging():\n",
    "    \"\"\"Configure logging for the script.\"\"\"\n",
    "    logging.basicConfig(\n",
    "        level=logging.INFO,\n",
    "        format='%(asctime)s - %(name)s - %(levelname)s - %(message)s',\n",
    "        handlers=[\n",
    "            logging.StreamHandler(),\n",
    "            logging.FileHandler(f'immobiliare_scraper_{datetime.now().strftime(\"%Y%m%d_%H%M%S\")}.log')\n",
    "        ]\n",
    "    )\n",
    "    return logging.getLogger(__name__)\n",
    "\n",
    "logger = setup_logging()"
   ]
  },
  {
   "cell_type": "code",
   "execution_count": 3,
   "metadata": {},
   "outputs": [
    {
     "name": "stderr",
     "output_type": "stream",
     "text": [
      "2025-06-03 19:39:33,466 - __main__ - INFO - Initializing configuration...\n",
      "2025-06-03 19:39:33,468 - sources.config.config_manager - INFO - Initialized ConfigManager with config directory: C:\\Users\\gabri\\workspace\\aida_projects\\quant-estate\\sources\\config\n",
      "2025-06-03 19:39:33,470 - __main__ - INFO - Creating immobiliare connector...\n",
      "2025-06-03 19:39:33,471 - sources.connectors.immobiliare.connector - INFO - Initializing ImmobiliareConnector\n",
      "2025-06-03 19:39:33,477 - sources.config.config_manager - INFO - Successfully loaded configuration: logging\n"
     ]
    },
    {
     "name": "stdout",
     "output_type": "stream",
     "text": [
      "2025-06-03 19:39:33 - INFO - sources.config.config_manager - Successfully loaded configuration: immobiliare.default\n",
      "2025-06-03 19:39:33 - INFO - sources.connectors.immobiliare.scraper.ImmobiliareScraper - Initialized ImmobiliareScraper with base URL: https://www.immobiliare.it\n",
      "2025-06-03 19:39:33 - INFO - sources.connectors.immobiliare.storage.FileStorage - Initialized FileStorage at data\\immobiliare (JSON saving: enabled)\n",
      "2025-06-03 19:39:33 - INFO - sources.connectors.immobiliare.connector - Created FileStorage at data\\immobiliare\n",
      "2025-06-03 19:39:33 - INFO - sources.connectors.immobiliare.connector - ImmobiliareConnector initialized successfully with FileStorage storage\n",
      "2025-06-03 19:39:33 - INFO - __main__ - Starting scraping from: https://www.immobiliare.it/vendita-case/milano/\n",
      "2025-06-03 19:39:33 - INFO - sources.connectors.immobiliare.connector - Starting scraping from https://www.immobiliare.it/vendita-case/milano/ (max pages: 2)\n",
      "2025-06-03 19:39:54 - INFO - sources.connectors.immobiliare.scraper.ImmobiliareScraper - Successfully extracted 25 real estate listings\n",
      "2025-06-03 19:39:54 - INFO - sources.connectors.immobiliare.storage.FileStorage - Storing 25 real estate listings\n",
      "2025-06-03 19:39:54 - INFO - sources.connectors.immobiliare.storage.FileStorage - Successfully saved 25 records to JSON file\n",
      "2025-06-03 19:39:54 - INFO - sources.connectors.immobiliare.storage.FileStorage - Successfully saved 25 records to CSV file\n",
      "2025-06-03 19:40:20 - ERROR - sources.connectors.immobiliare.connector - Error during scraping: Request failed with status code 403\n",
      "Traceback (most recent call last):\n",
      "  File \"C:\\Users\\gabri\\workspace\\aida_projects\\quant-estate\\sources\\connectors\\immobiliare\\connector.py\", line 76, in scrape_and_store\n",
      "    result = super().scrape_and_store(start_url, max_pages)\n",
      "             ^^^^^^^^^^^^^^^^^^^^^^^^^^^^^^^^^^^^^^^^^^^^^^\n",
      "  File \"C:\\Users\\gabri\\workspace\\aida_projects\\quant-estate\\sources\\connectors\\base.py\", line 171, in scrape_and_store\n",
      "    response = self.scraper.get_page(current_url)\n",
      "               ^^^^^^^^^^^^^^^^^^^^^^^^^^^^^^^^^^\n",
      "  File \"C:\\Users\\gabri\\workspace\\aida_projects\\quant-estate\\sources\\connectors\\base.py\", line 86, in get_page\n",
      "    raise ScrapingError(f\"Request failed with status code {response.status_code}\")\n",
      "sources.connectors.exceptions.ScrapingError: Request failed with status code 403\n",
      "2025-06-03 19:40:20 - ERROR - __main__ - Scraping error for https://www.immobiliare.it/vendita-case/milano/: Request failed with status code 403\n",
      "2025-06-03 19:40:20 - INFO - __main__ - Starting scraping from: https://www.immobiliare.it/vendita-case/roma/\n",
      "2025-06-03 19:40:20 - INFO - sources.connectors.immobiliare.connector - Starting scraping from https://www.immobiliare.it/vendita-case/roma/ (max pages: 2)\n",
      "2025-06-03 19:40:33 - INFO - sources.connectors.immobiliare.scraper.ImmobiliareScraper - Successfully extracted 25 real estate listings\n",
      "2025-06-03 19:40:33 - INFO - sources.connectors.immobiliare.storage.FileStorage - Storing 25 real estate listings\n",
      "2025-06-03 19:40:33 - INFO - sources.connectors.immobiliare.storage.FileStorage - Successfully saved 25 records to JSON file\n",
      "2025-06-03 19:40:33 - INFO - sources.connectors.immobiliare.storage.FileStorage - Successfully saved 25 records to CSV file\n"
     ]
    },
    {
     "ename": "KeyboardInterrupt",
     "evalue": "",
     "output_type": "error",
     "traceback": [
      "\u001b[31m---------------------------------------------------------------\u001b[39m",
      "\u001b[31mKeyboardInterrupt\u001b[39m             Traceback (most recent call last)",
      "\u001b[36mCell\u001b[39m\u001b[36m \u001b[39m\u001b[32mIn[3]\u001b[39m\u001b[32m, line 21\u001b[39m\n\u001b[32m     19\u001b[39m \u001b[38;5;28;01mtry\u001b[39;00m:\n\u001b[32m     20\u001b[39m     logger.info(\u001b[33mf\u001b[39m\u001b[33m\"\u001b[39m\u001b[33mStarting scraping from: \u001b[39m\u001b[38;5;132;01m{\u001b[39;00murl\u001b[38;5;132;01m}\u001b[39;00m\u001b[33m\"\u001b[39m)\n\u001b[32m---> \u001b[39m\u001b[32m21\u001b[39m     \u001b[43mconnector\u001b[49m\u001b[43m.\u001b[49m\u001b[43mscrape_and_store\u001b[49m\u001b[43m(\u001b[49m\u001b[43murl\u001b[49m\u001b[43m,\u001b[49m\u001b[43m \u001b[49m\u001b[43mmax_pages\u001b[49m\u001b[43m=\u001b[49m\u001b[32;43m2\u001b[39;49m\u001b[43m)\u001b[49m  \u001b[38;5;66;03m# Limit to 2 pages per city for testing\u001b[39;00m\n\u001b[32m     22\u001b[39m     logger.info(\u001b[33mf\u001b[39m\u001b[33m\"\u001b[39m\u001b[33mSuccessfully scraped data from \u001b[39m\u001b[38;5;132;01m{\u001b[39;00murl\u001b[38;5;132;01m}\u001b[39;00m\u001b[33m\"\u001b[39m)\n\u001b[32m     23\u001b[39m \u001b[38;5;28;01mexcept\u001b[39;00m ScrapingError \u001b[38;5;28;01mas\u001b[39;00m e:\n",
      "\u001b[36mFile \u001b[39m\u001b[32m~\\workspace\\aida_projects\\quant-estate\\sources\\connectors\\immobiliare\\connector.py:76\u001b[39m, in \u001b[36mImmobiliareConnector.scrape_and_store\u001b[39m\u001b[34m(self, start_url, max_pages)\u001b[39m\n\u001b[32m     72\u001b[39m logger.info(\u001b[33m\"\u001b[39m\u001b[33mStarting scraping from \u001b[39m\u001b[38;5;132;01m%s\u001b[39;00m\u001b[33m (max pages: \u001b[39m\u001b[38;5;132;01m%s\u001b[39;00m\u001b[33m)\u001b[39m\u001b[33m\"\u001b[39m, \n\u001b[32m     73\u001b[39m            start_url, \n\u001b[32m     74\u001b[39m            \u001b[38;5;28mstr\u001b[39m(max_pages) \u001b[38;5;28;01mif\u001b[39;00m max_pages \u001b[38;5;28;01melse\u001b[39;00m \u001b[33m\"\u001b[39m\u001b[33munlimited\u001b[39m\u001b[33m\"\u001b[39m)\n\u001b[32m     75\u001b[39m \u001b[38;5;28;01mtry\u001b[39;00m:\n\u001b[32m---> \u001b[39m\u001b[32m76\u001b[39m     result = \u001b[38;5;28;43msuper\u001b[39;49m\u001b[43m(\u001b[49m\u001b[43m)\u001b[49m\u001b[43m.\u001b[49m\u001b[43mscrape_and_store\u001b[49m\u001b[43m(\u001b[49m\u001b[43mstart_url\u001b[49m\u001b[43m,\u001b[49m\u001b[43m \u001b[49m\u001b[43mmax_pages\u001b[49m\u001b[43m)\u001b[49m\n\u001b[32m     77\u001b[39m     logger.info(\u001b[33m\"\u001b[39m\u001b[33mScraping completed successfully\u001b[39m\u001b[33m\"\u001b[39m)\n\u001b[32m     78\u001b[39m     \u001b[38;5;28;01mreturn\u001b[39;00m result\n",
      "\u001b[36mFile \u001b[39m\u001b[32m~\\workspace\\aida_projects\\quant-estate\\sources\\connectors\\base.py:171\u001b[39m, in \u001b[36mBaseConnector.scrape_and_store\u001b[39m\u001b[34m(self, start_url, max_pages)\u001b[39m\n\u001b[32m    168\u001b[39m \u001b[38;5;28;01mwhile\u001b[39;00m \u001b[38;5;28;01mTrue\u001b[39;00m:\n\u001b[32m    169\u001b[39m     \u001b[38;5;28;01mtry\u001b[39;00m:\n\u001b[32m    170\u001b[39m         \u001b[38;5;66;03m# Get and parse the page\u001b[39;00m\n\u001b[32m--> \u001b[39m\u001b[32m171\u001b[39m         response = \u001b[38;5;28;43mself\u001b[39;49m\u001b[43m.\u001b[49m\u001b[43mscraper\u001b[49m\u001b[43m.\u001b[49m\u001b[43mget_page\u001b[49m\u001b[43m(\u001b[49m\u001b[43mcurrent_url\u001b[49m\u001b[43m)\u001b[49m\n\u001b[32m    172\u001b[39m         data = \u001b[38;5;28mself\u001b[39m.scraper.extract_data(response)\n\u001b[32m    174\u001b[39m         \u001b[38;5;28;01mif\u001b[39;00m \u001b[38;5;129;01mnot\u001b[39;00m data:\n",
      "\u001b[36mFile \u001b[39m\u001b[32m~\\workspace\\aida_projects\\quant-estate\\sources\\connectors\\base.py:83\u001b[39m, in \u001b[36mBaseScraper.get_page\u001b[39m\u001b[34m(self, url)\u001b[39m\n\u001b[32m     81\u001b[39m \u001b[38;5;28;01mtry\u001b[39;00m:\n\u001b[32m     82\u001b[39m     response = requests.get(url, headers=\u001b[38;5;28mself\u001b[39m.headers)\n\u001b[32m---> \u001b[39m\u001b[32m83\u001b[39m     \u001b[43mtime\u001b[49m\u001b[43m.\u001b[49m\u001b[43msleep\u001b[49m\u001b[43m(\u001b[49m\u001b[43mrandom\u001b[49m\u001b[43m.\u001b[49m\u001b[43muniform\u001b[49m\u001b[43m(\u001b[49m\u001b[38;5;28;43mself\u001b[39;49m\u001b[43m.\u001b[49m\u001b[43mmin_delay\u001b[49m\u001b[43m,\u001b[49m\u001b[43m \u001b[49m\u001b[38;5;28;43mself\u001b[39;49m\u001b[43m.\u001b[49m\u001b[43mmax_delay\u001b[49m\u001b[43m)\u001b[49m\u001b[43m)\u001b[49m\n\u001b[32m     85\u001b[39m     \u001b[38;5;28;01mif\u001b[39;00m response.status_code != \u001b[32m200\u001b[39m:\n\u001b[32m     86\u001b[39m         \u001b[38;5;28;01mraise\u001b[39;00m ScrapingError(\u001b[33mf\u001b[39m\u001b[33m\"\u001b[39m\u001b[33mRequest failed with status code \u001b[39m\u001b[38;5;132;01m{\u001b[39;00mresponse.status_code\u001b[38;5;132;01m}\u001b[39;00m\u001b[33m\"\u001b[39m)\n",
      "\u001b[31mKeyboardInterrupt\u001b[39m: "
     ]
    }
   ],
   "source": [
    "try:\n",
    "    # Initialize configuration\n",
    "    logger.info(\"Initializing configuration...\")\n",
    "    config_manager = ConfigManager()\n",
    "    \n",
    "    # Create connector\n",
    "    logger.info(\"Creating immobiliare connector...\")\n",
    "    connector = ImmobiliareConnector(config_manager=config_manager)\n",
    "    \n",
    "    # Define target URLs\n",
    "    urls = [\n",
    "        \"https://www.immobiliare.it/vendita-case/milano/\",\n",
    "        #\"https://www.immobiliare.it/vendita-case/roma/\",\n",
    "        #\"https://www.immobiliare.it/vendita-case/torino/\"\n",
    "    ]\n",
    "    \n",
    "    # Scrape each URL\n",
    "    for url in urls:\n",
    "        try:\n",
    "            logger.info(f\"Starting scraping from: {url}\")\n",
    "            connector.scrape_and_store(url, max_pages=2)  # Limit to 2 pages per city for testing\n",
    "            logger.info(f\"Successfully scraped data from {url}\")\n",
    "        except ScrapingError as e:\n",
    "            logger.error(f\"Scraping error for {url}: {e}\")\n",
    "        except StorageError as e:\n",
    "            logger.error(f\"Storage error for {url}: {e}\")\n",
    "        except Exception as e:\n",
    "            logger.error(f\"Unexpected error for {url}: {e}\")\n",
    "    \n",
    "    logger.info(\"Scraping completed!\")\n",
    "    \n",
    "except Exception as e:\n",
    "    logger.error(f\"Fatal error: {e}\")"
   ]
  },
  {
   "cell_type": "code",
   "execution_count": null,
   "metadata": {},
   "outputs": [],
   "source": []
  },
  {
   "cell_type": "markdown",
   "metadata": {},
   "source": [
    "## Basic Usage\n",
    "\n",
    "Let's start with a basic example of scraping a single page of real estate listings."
   ]
  },
  {
   "cell_type": "code",
   "execution_count": 2,
   "metadata": {},
   "outputs": [
    {
     "name": "stdout",
     "output_type": "stream",
     "text": [
      "Creating connector...\n",
      "Storage directory: C:\\Users\\gabri\\workspace\\aida_projects\\quant-estate\\.venv\\Lib\\data\\immobiliare_data_2025-06-03\n",
      "Storage initialized at: C:\\Users\\gabri\\workspace\\aida_projects\\quant-estate\\.venv\\Lib\\data\\immobiliare_data_2025-06-03\n",
      "Initialized CSV file: C:\\Users\\gabri\\workspace\\aida_projects\\quant-estate\\.venv\\Lib\\data\\immobiliare_data_2025-06-03\\immobiliare.csv\n",
      "\n",
      "Starting scraping from: https://www.immobiliare.it/vendita-case/milano/\n"
     ]
    },
    {
     "ename": "KeyboardInterrupt",
     "evalue": "",
     "output_type": "error",
     "traceback": [
      "\u001b[31m---------------------------------------------------------------\u001b[39m",
      "\u001b[31mKeyboardInterrupt\u001b[39m             Traceback (most recent call last)",
      "\u001b[36mCell\u001b[39m\u001b[36m \u001b[39m\u001b[32mIn[2]\u001b[39m\u001b[32m, line 14\u001b[39m\n\u001b[32m     12\u001b[39m \u001b[38;5;28mprint\u001b[39m(\u001b[33mf\u001b[39m\u001b[33m\"\u001b[39m\u001b[38;5;130;01m\\n\u001b[39;00m\u001b[33mStarting scraping from: \u001b[39m\u001b[38;5;132;01m{\u001b[39;00mtest_url\u001b[38;5;132;01m}\u001b[39;00m\u001b[33m\"\u001b[39m)\n\u001b[32m     13\u001b[39m \u001b[38;5;28;01mtry\u001b[39;00m:\n\u001b[32m---> \u001b[39m\u001b[32m14\u001b[39m     \u001b[43mconnector\u001b[49m\u001b[43m.\u001b[49m\u001b[43mscrape_and_store\u001b[49m\u001b[43m(\u001b[49m\u001b[43mtest_url\u001b[49m\u001b[43m)\u001b[49m\n\u001b[32m     15\u001b[39m     \u001b[38;5;28mprint\u001b[39m(\u001b[33m\"\u001b[39m\u001b[33mScraping completed successfully!\u001b[39m\u001b[33m\"\u001b[39m)\n\u001b[32m     16\u001b[39m \u001b[38;5;28;01mexcept\u001b[39;00m \u001b[38;5;167;01mException\u001b[39;00m \u001b[38;5;28;01mas\u001b[39;00m e:\n",
      "\u001b[36mFile \u001b[39m\u001b[32m~\\workspace\\aida_projects\\quant-estate\\.venv\\Lib\\site-packages\\connectors\\base.py:92\u001b[39m, in \u001b[36mBaseConnector.scrape_and_store\u001b[39m\u001b[34m(self, start_url, max_pages)\u001b[39m\n\u001b[32m     89\u001b[39m \u001b[38;5;28;01mwhile\u001b[39;00m \u001b[38;5;28;01mTrue\u001b[39;00m:\n\u001b[32m     90\u001b[39m     \u001b[38;5;28;01mtry\u001b[39;00m:\n\u001b[32m     91\u001b[39m         \u001b[38;5;66;03m# Get and parse the page\u001b[39;00m\n\u001b[32m---> \u001b[39m\u001b[32m92\u001b[39m         response = \u001b[38;5;28;43mself\u001b[39;49m\u001b[43m.\u001b[49m\u001b[43mscraper\u001b[49m\u001b[43m.\u001b[49m\u001b[43mget_page\u001b[49m\u001b[43m(\u001b[49m\u001b[43mcurrent_url\u001b[49m\u001b[43m)\u001b[49m\n\u001b[32m     93\u001b[39m         data = \u001b[38;5;28mself\u001b[39m.scraper.extract_data(response)\n\u001b[32m     95\u001b[39m         \u001b[38;5;28;01mif\u001b[39;00m \u001b[38;5;129;01mnot\u001b[39;00m data:\n",
      "\u001b[36mFile \u001b[39m\u001b[32m~\\workspace\\aida_projects\\quant-estate\\.venv\\Lib\\site-packages\\connectors\\base.py:43\u001b[39m, in \u001b[36mBaseScraper.get_page\u001b[39m\u001b[34m(self, url)\u001b[39m\n\u001b[32m     41\u001b[39m \u001b[38;5;28;01mtry\u001b[39;00m:\n\u001b[32m     42\u001b[39m     response = requests.get(url, headers=\u001b[38;5;28mself\u001b[39m.headers)\n\u001b[32m---> \u001b[39m\u001b[32m43\u001b[39m     \u001b[43mtime\u001b[49m\u001b[43m.\u001b[49m\u001b[43msleep\u001b[49m\u001b[43m(\u001b[49m\u001b[43mrandom\u001b[49m\u001b[43m.\u001b[49m\u001b[43muniform\u001b[49m\u001b[43m(\u001b[49m\u001b[38;5;28;43mself\u001b[39;49m\u001b[43m.\u001b[49m\u001b[43mmin_delay\u001b[49m\u001b[43m,\u001b[49m\u001b[43m \u001b[49m\u001b[38;5;28;43mself\u001b[39;49m\u001b[43m.\u001b[49m\u001b[43mmax_delay\u001b[49m\u001b[43m)\u001b[49m\u001b[43m)\u001b[49m\n\u001b[32m     45\u001b[39m     \u001b[38;5;28;01mif\u001b[39;00m response.status_code != \u001b[32m200\u001b[39m:\n\u001b[32m     46\u001b[39m         \u001b[38;5;28;01mraise\u001b[39;00m \u001b[38;5;167;01mException\u001b[39;00m(\u001b[33mf\u001b[39m\u001b[33m\"\u001b[39m\u001b[33mRequest failed with status code \u001b[39m\u001b[38;5;132;01m{\u001b[39;00mresponse.status_code\u001b[38;5;132;01m}\u001b[39;00m\u001b[33m\"\u001b[39m)\n",
      "\u001b[31mKeyboardInterrupt\u001b[39m: "
     ]
    }
   ],
   "source": [
    "# Initialize config manager\n",
    "config_manager = ConfigManager()\n",
    "\n",
    "# Create connector with config\n",
    "print(\"Creating connector...\")\n",
    "connector = ImmobiliareConnector(config_manager=config_manager)\n",
    "\n",
    "# Example URL for Rome apartments\n",
    "test_url = \"https://www.immobiliare.it/vendita-case/milano/\"\n",
    "\n",
    "# Start scraping\n",
    "print(f\"\\nStarting scraping from: {test_url}\")\n",
    "try:\n",
    "    connector.scrape_and_store(test_url)\n",
    "    print(\"Scraping completed successfully!\")\n",
    "except Exception as e:\n",
    "    print(f\"Error during scraping: {e}\")\n",
    "\n",
    "\n",
    "# Load and display the results\n",
    "print(\"\\nLoading results from CSV...\")\n",
    "try:\n",
    "    # Get the storage instance from the connector\n",
    "    storage = connector.storage\n",
    "    df = pd.read_csv(storage.csv_file)\n",
    "    \n",
    "    # Display basic information\n",
    "    print(f\"\\nTotal records: {len(df)}\")\n",
    "    print(\"\\nColumns:\")\n",
    "    print(df.columns.tolist())\n",
    "    \n",
    "    # Display first few records\n",
    "    print(\"\\nFirst 5 records:\")\n",
    "    print(df.head())\n",
    "    \n",
    "    # Basic statistics\n",
    "    print(\"\\nPrice Statistics:\")\n",
    "    print(df['price'].describe())\n",
    "    \n",
    "    print(\"\\nSurface Statistics:\")\n",
    "    print(df['surface'].describe())\n",
    "    \n",
    "    print(\"\\nProperty Types:\")\n",
    "    print(df['property_type'].value_counts())\n",
    "    \n",
    "except Exception as e:\n",
    "    print(f\"Error analyzing results: {e}\")"
   ]
  },
  {
   "cell_type": "code",
   "execution_count": null,
   "metadata": {},
   "outputs": [],
   "source": []
  }
 ],
 "metadata": {
  "kernelspec": {
   "display_name": "Python 3 (ipykernel)",
   "language": "python",
   "name": "python3"
  },
  "language_info": {
   "codemirror_mode": {
    "name": "ipython",
    "version": 3
   },
   "file_extension": ".py",
   "mimetype": "text/x-python",
   "name": "python",
   "nbconvert_exporter": "python",
   "pygments_lexer": "ipython3",
   "version": "3.12.6"
  }
 },
 "nbformat": 4,
 "nbformat_minor": 4
}

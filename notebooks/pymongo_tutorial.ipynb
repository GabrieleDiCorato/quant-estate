{
 "cells": [
  {
   "cell_type": "markdown",
   "id": "3bb26b53",
   "metadata": {},
   "source": [
    "# connect to mongo and get data"
   ]
  },
  {
   "cell_type": "code",
   "execution_count": null,
   "id": "fd4f7b24",
   "metadata": {},
   "outputs": [],
   "source": [
    "import pymongo\n",
    "from pymongo import MongoClient\n",
    "import datetime\n",
    "from bson.objectid import ObjectId\n",
    "from bson.json_util import dumps\n",
    "from hashlib import md5\n",
    "import pprint"
   ]
  },
  {
   "cell_type": "code",
   "execution_count": null,
   "id": "4fcd901d",
   "metadata": {},
   "outputs": [],
   "source": [
    "# create a MongoClient to the running mongod instance with the default host and port\n",
    "client = MongoClient()\n",
    "\n",
    "# we can also specify the host and port\n",
    "client = MongoClient('localhost', 27017)\n",
    "client = MongoClient('mongodb://localhost:27017/') #using the mongoDB uri format"
   ]
  },
  {
   "cell_type": "code",
   "execution_count": null,
   "id": "0c7c7732",
   "metadata": {},
   "outputs": [],
   "source": [
    "# access the database (or create it if does not exist)\n",
    "db = client['test-database']"
   ]
  },
  {
   "cell_type": "code",
   "execution_count": null,
   "id": "ac43c539",
   "metadata": {},
   "outputs": [],
   "source": [
    "# access a collection (or create it if does not exist)\n",
    "collection = db['posts']\n",
    "collection"
   ]
  },
  {
   "cell_type": "code",
   "execution_count": null,
   "id": "k_ajoO3gQ2aq",
   "metadata": {},
   "outputs": [],
   "source": [
    "db.list_collection_names() # print all the collections in the db"
   ]
  },
  {
   "cell_type": "markdown",
   "id": "e866d789",
   "metadata": {},
   "source": [
    "# insert and query data"
   ]
  },
  {
   "cell_type": "markdown",
   "id": "e50f476a",
   "metadata": {},
   "source": [
    "## single document"
   ]
  },
  {
   "cell_type": "code",
   "execution_count": null,
   "id": "8f3a83a6",
   "metadata": {},
   "outputs": [],
   "source": [
    "# drop previous collection\n",
    "db.posts.drop()\n",
    "posts = db.posts"
   ]
  },
  {
   "cell_type": "code",
   "execution_count": null,
   "id": "8be46733",
   "metadata": {},
   "outputs": [],
   "source": [
    "# insert a manfactured social media post, using the insert_one() command\n",
    "post = {\"author\": \"Mike\",\n",
    "        \"text\": \"My first blog post!\",\n",
    "        \"tags\": [\"mongodb\", \"python\", \"pymongo\"],\n",
    "        \"date\": datetime.datetime.now(datetime.UTC)}\n",
    "\n",
    "post_id = posts.insert_one(post).inserted_id\n",
    "post_id"
   ]
  },
  {
   "cell_type": "code",
   "execution_count": null,
   "id": "a093a675",
   "metadata": {},
   "outputs": [],
   "source": [
    "db.list_collection_names() # print all the collections in the db"
   ]
  },
  {
   "cell_type": "code",
   "execution_count": null,
   "id": "ddab5b73",
   "metadata": {},
   "outputs": [],
   "source": [
    "# query a document, using the find_one() command\n",
    "pprint.pprint(posts.find_one({\"author\": \"Mike\"}))"
   ]
  },
  {
   "cell_type": "code",
   "execution_count": null,
   "id": "b72aa5e7",
   "metadata": {},
   "outputs": [],
   "source": [
    "posts.find_one({\"author\": \"Eliot\"})"
   ]
  },
  {
   "cell_type": "code",
   "execution_count": null,
   "id": "badce9d6",
   "metadata": {},
   "outputs": [],
   "source": [
    "# querying by ObjectId\n",
    "pprint.pprint(posts.find_one({\"_id\": post_id}))"
   ]
  },
  {
   "cell_type": "code",
   "execution_count": null,
   "id": "88d2d2c8",
   "metadata": {},
   "outputs": [],
   "source": [
    "# the objectId is an object, not a string\n",
    "post_id_as_str = str(post_id)\n",
    "posts.find_one({\"_id\": post_id_as_str})"
   ]
  },
  {
   "cell_type": "code",
   "execution_count": null,
   "id": "0b3d6cd8",
   "metadata": {},
   "outputs": [],
   "source": [
    "# to convert a string to ObjectId\n",
    "def get_ObjId(id):\n",
    "    return ObjectId(str(id))\n",
    "\n",
    "def get(str_id):\n",
    "    # Convert from string to ObjectId:\n",
    "    id = get_ObjId(str_id)\n",
    "    document = db.posts.find_one({\"_id\": id})\n",
    "    return document\n",
    "\n",
    "pprint.pprint(get(post_id))"
   ]
  },
  {
   "cell_type": "markdown",
   "id": "220db736",
   "metadata": {},
   "source": [
    "## bulk insert"
   ]
  },
  {
   "cell_type": "code",
   "execution_count": null,
   "id": "a66d12ab",
   "metadata": {},
   "outputs": [],
   "source": [
    "# insert many manfactured social media posts, using the insert_one() command\n",
    "new_posts = [{\"author\": \"Mike\",\n",
    "              \"text\": \"Another post!\",\n",
    "              \"tags\": [\"bulk\", \"insert\"],\n",
    "              \"date\": datetime.datetime(2009, 11, 12, 11, 14)},\n",
    "             {\"author\": \"Eliot\",\n",
    "              \"title\": \"MongoDB is fun\",\n",
    "              \"text\": \"and pretty easy too!\",\n",
    "              \"date\": datetime.datetime(2009, 11, 10, 10, 45)}]\n",
    "result = posts.insert_many(new_posts)\n",
    "result.inserted_ids"
   ]
  },
  {
   "cell_type": "code",
   "execution_count": null,
   "id": "8ed7cd7c",
   "metadata": {},
   "outputs": [],
   "source": [
    "for post in posts.find():\n",
    "    pprint.pprint(post)"
   ]
  },
  {
   "cell_type": "code",
   "execution_count": null,
   "id": "7f129ced-ae04-457e-a672-4e4f6975baba",
   "metadata": {},
   "outputs": [],
   "source": [
    "# remove all duplicated documents (using hash)\n",
    "record_hashes = set()\n",
    "\n",
    "for record in db.posts.find():\n",
    "    # remove the id from the record, so that the hash will be evaluated on the document without id\n",
    "    record_id = record.pop('_id')\n",
    "    record_hash = md5(dumps(record).encode(\"utf-8\")).hexdigest()\n",
    "\n",
    "    if record_hash in record_hashes:\n",
    "        db.posts.delete_one({'_id': record_id})\n",
    "    else:\n",
    "        record_hashes.add(record_hash)\n",
    "\n",
    "for post in db.posts.find():\n",
    "    pprint.pprint(post)"
   ]
  },
  {
   "cell_type": "code",
   "execution_count": null,
   "id": "c20c6202",
   "metadata": {},
   "outputs": [],
   "source": [
    "# remove duplicates based on a key\n",
    "pipeline = [\n",
    "    {\"$group\":{ \n",
    "     \"_id\": {'author':\"$author\", 'text':\"$text\"}, \n",
    "      \"date\": {\"$first\": '$date'},\n",
    "      \"tags\": {\"$first\": '$tags'},\n",
    "      \"ID\": {\"$first\": '$_id'},\n",
    "     }},\n",
    "     {\"$out\" : \"deduplicated\"}\n",
    "]\n",
    "\n",
    "db.posts.aggregate(pipeline)\n",
    "\n",
    "for post in db.deduplicated.find():\n",
    "    pprint.pprint(post)"
   ]
  },
  {
   "cell_type": "code",
   "execution_count": null,
   "id": "4bbaf044",
   "metadata": {},
   "outputs": [],
   "source": [
    "for post in db.deduplicated.find({\"_id.author\": \"Mike\"}):\n",
    "    pprint.pprint(post)"
   ]
  },
  {
   "cell_type": "markdown",
   "id": "cd4f44bb",
   "metadata": {},
   "source": [
    "## counting"
   ]
  },
  {
   "cell_type": "code",
   "execution_count": null,
   "id": "52490c6e",
   "metadata": {},
   "outputs": [],
   "source": [
    "db.posts.count_documents({})"
   ]
  },
  {
   "cell_type": "code",
   "execution_count": null,
   "id": "a41a5534",
   "metadata": {},
   "outputs": [],
   "source": [
    "posts.count_documents({\"author\": \"Mike\"})"
   ]
  },
  {
   "cell_type": "markdown",
   "id": "38258a0a",
   "metadata": {},
   "source": [
    "## range queries"
   ]
  },
  {
   "cell_type": "code",
   "execution_count": null,
   "id": "6c16282f",
   "metadata": {},
   "outputs": [],
   "source": [
    "d = datetime.datetime(2009, 11, 12, 12)\n",
    "for post in posts.find({\"date\": {\"$lt\": d}}).sort(\"author\"):\n",
    "    pprint.pprint(post)"
   ]
  }
 ],
 "metadata": {},
 "nbformat": 4,
 "nbformat_minor": 5
}

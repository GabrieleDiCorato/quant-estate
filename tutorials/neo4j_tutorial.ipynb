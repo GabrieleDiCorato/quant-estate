{
 "cells": [
  {
   "cell_type": "markdown",
   "id": "2a348d63-8d47-4e56-a150-237e838672a8",
   "metadata": {},
   "source": [
    "# Creating a Neo4j Database"
   ]
  },
  {
   "cell_type": "code",
   "execution_count": 395,
   "id": "36f5c591-b13d-4385-bb2b-113bdebecbae",
   "metadata": {},
   "outputs": [],
   "source": [
    "import pandas as pd\n",
    "import neo4j\n",
    "import re"
   ]
  },
  {
   "cell_type": "markdown",
   "id": "88d4c62a-3448-424d-9253-71217d5ba0a4",
   "metadata": {},
   "source": [
    "Before executing, **start your local database** using Neo4j Desktop.\n",
    "\n",
    "**TODOs:**\n",
    "1. can I start the DB from a notebook? use cypher-shell?"
   ]
  },
  {
   "cell_type": "code",
   "execution_count": 396,
   "id": "62548c34-1034-438e-be66-bae238df64a8",
   "metadata": {},
   "outputs": [
    {
     "name": "stdout",
     "output_type": "stream",
     "text": [
      "Going to test the connection!\n",
      "Testing 127.0.0.1:7687, using a <class 'neo4j._sync.driver.Neo4jDriver'> driver, Neo4j/5.24.0\n",
      "Connected!\n"
     ]
    }
   ],
   "source": [
    "# Default port: 7687. Click on the neo4j desktop instance for datails\n",
    "URI = \"neo4j://localhost:7687\"\n",
    "auth = neo4j.basic_auth(\"neo4j\", \"123456789\")\n",
    "\n",
    "def get_driver(uri=URI, auth=auth):\n",
    "    ''' Starting a Neo4j Driver. \n",
    "    The Driver interface hides the implementation, which mostly depends on the provided URI protocol.\n",
    "    '''\n",
    "    return neo4j.GraphDatabase.driver(URI, auth=auth)\n",
    "\n",
    "print(\"Going to test the connection!\")\n",
    "with get_driver() as driver:\n",
    "    server_i = driver.get_server_info()\n",
    "    print(f\"Testing {server_i.address}, using a {type(driver)} driver, {server_i.agent}\")\n",
    "    driver.verify_connectivity()\n",
    "    print(\"Connected!\")"
   ]
  },
  {
   "cell_type": "markdown",
   "id": "6409d13e-a17e-40f8-be75-1df2c3cdd988",
   "metadata": {
    "jp-MarkdownHeadingCollapsed": true
   },
   "source": [
    "## Creating Nodes and Relationships"
   ]
  },
  {
   "cell_type": "markdown",
   "id": "ac68dc14-4898-4442-b0e5-bc26d2f8e5a3",
   "metadata": {},
   "source": [
    "## Neo4j Graph "
   ]
  },
  {
   "cell_type": "markdown",
   "id": "bdec9724-ce28-4898-90d2-f49964c3f830",
   "metadata": {},
   "source": [
    "## Analysis"
   ]
  }
 ],
 "metadata": {
  "kernelspec": {
   "display_name": "Python 3 (ipykernel)",
   "language": "python",
   "name": "python3"
  },
  "language_info": {
   "codemirror_mode": {
    "name": "ipython",
    "version": 3
   },
   "file_extension": ".py",
   "mimetype": "text/x-python",
   "name": "python",
   "nbconvert_exporter": "python",
   "pygments_lexer": "ipython3",
   "version": "3.12.6"
  }
 },
 "nbformat": 4,
 "nbformat_minor": 5
}
